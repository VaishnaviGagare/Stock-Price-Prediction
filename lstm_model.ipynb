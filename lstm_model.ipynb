{
  "nbformat": 4,
  "nbformat_minor": 0,
  "metadata": {
    "colab": {
      "provenance": []
    },
    "kernelspec": {
      "name": "python3",
      "display_name": "Python 3"
    },
    "language_info": {
      "name": "python"
    }
  },
  "cells": [
    {
      "cell_type": "code",
      "execution_count": 1,
      "metadata": {
        "id": "boIS_29aXJ3D"
      },
      "outputs": [],
      "source": [
        "import numpy as np\n",
        "import pandas as pd \n",
        "import matplotlib.pyplot as plt\n",
        "import pandas_datareader as data"
      ]
    },
    {
      "cell_type": "code",
      "source": [
        "start = '2010-01-01'\n",
        "end = '2019-12-31'\n",
        "df = pd.read_csv('AAPL.csv')\n",
        "df"
      ],
      "metadata": {
        "colab": {
          "base_uri": "https://localhost:8080/",
          "height": 423
        },
        "id": "xO3emyhJXnf2",
        "outputId": "b0644f07-a95c-4cc3-e674-6ce54ebb1f86"
      },
      "execution_count": 2,
      "outputs": [
        {
          "output_type": "execute_result",
          "data": {
            "text/plain": [
              "            Date       Open       High        Low      Close  Adj Close  \\\n",
              "0     2010-01-11   7.600000   7.607143   7.444643   7.503929   6.386731   \n",
              "1     2010-01-12   7.471071   7.491786   7.372143   7.418571   6.314083   \n",
              "2     2010-01-13   7.423929   7.533214   7.289286   7.523214   6.403146   \n",
              "3     2010-01-14   7.503929   7.516429   7.465000   7.479643   6.366062   \n",
              "4     2010-01-15   7.533214   7.557143   7.352500   7.354643   6.259671   \n",
              "...          ...        ...        ...        ...        ...        ...   \n",
              "2505  2019-12-23  70.132500  71.062500  70.092499  71.000000  69.451065   \n",
              "2506  2019-12-24  71.172501  71.222504  70.730003  71.067497  69.517082   \n",
              "2507  2019-12-26  71.205002  72.495003  71.175003  72.477501  70.896347   \n",
              "2508  2019-12-27  72.779999  73.492500  72.029999  72.449997  70.869423   \n",
              "2509  2019-12-30  72.364998  73.172501  71.305000  72.879997  71.290047   \n",
              "\n",
              "         Volume  \n",
              "0     462229600  \n",
              "1     594459600  \n",
              "2     605892000  \n",
              "3     432894000  \n",
              "4     594067600  \n",
              "...         ...  \n",
              "2505   98572000  \n",
              "2506   48478800  \n",
              "2507   93121200  \n",
              "2508  146266000  \n",
              "2509  144114400  \n",
              "\n",
              "[2510 rows x 7 columns]"
            ],
            "text/html": [
              "\n",
              "  <div id=\"df-060f19b3-8a30-4f82-b91e-d4fdb0400df5\">\n",
              "    <div class=\"colab-df-container\">\n",
              "      <div>\n",
              "<style scoped>\n",
              "    .dataframe tbody tr th:only-of-type {\n",
              "        vertical-align: middle;\n",
              "    }\n",
              "\n",
              "    .dataframe tbody tr th {\n",
              "        vertical-align: top;\n",
              "    }\n",
              "\n",
              "    .dataframe thead th {\n",
              "        text-align: right;\n",
              "    }\n",
              "</style>\n",
              "<table border=\"1\" class=\"dataframe\">\n",
              "  <thead>\n",
              "    <tr style=\"text-align: right;\">\n",
              "      <th></th>\n",
              "      <th>Date</th>\n",
              "      <th>Open</th>\n",
              "      <th>High</th>\n",
              "      <th>Low</th>\n",
              "      <th>Close</th>\n",
              "      <th>Adj Close</th>\n",
              "      <th>Volume</th>\n",
              "    </tr>\n",
              "  </thead>\n",
              "  <tbody>\n",
              "    <tr>\n",
              "      <th>0</th>\n",
              "      <td>2010-01-11</td>\n",
              "      <td>7.600000</td>\n",
              "      <td>7.607143</td>\n",
              "      <td>7.444643</td>\n",
              "      <td>7.503929</td>\n",
              "      <td>6.386731</td>\n",
              "      <td>462229600</td>\n",
              "    </tr>\n",
              "    <tr>\n",
              "      <th>1</th>\n",
              "      <td>2010-01-12</td>\n",
              "      <td>7.471071</td>\n",
              "      <td>7.491786</td>\n",
              "      <td>7.372143</td>\n",
              "      <td>7.418571</td>\n",
              "      <td>6.314083</td>\n",
              "      <td>594459600</td>\n",
              "    </tr>\n",
              "    <tr>\n",
              "      <th>2</th>\n",
              "      <td>2010-01-13</td>\n",
              "      <td>7.423929</td>\n",
              "      <td>7.533214</td>\n",
              "      <td>7.289286</td>\n",
              "      <td>7.523214</td>\n",
              "      <td>6.403146</td>\n",
              "      <td>605892000</td>\n",
              "    </tr>\n",
              "    <tr>\n",
              "      <th>3</th>\n",
              "      <td>2010-01-14</td>\n",
              "      <td>7.503929</td>\n",
              "      <td>7.516429</td>\n",
              "      <td>7.465000</td>\n",
              "      <td>7.479643</td>\n",
              "      <td>6.366062</td>\n",
              "      <td>432894000</td>\n",
              "    </tr>\n",
              "    <tr>\n",
              "      <th>4</th>\n",
              "      <td>2010-01-15</td>\n",
              "      <td>7.533214</td>\n",
              "      <td>7.557143</td>\n",
              "      <td>7.352500</td>\n",
              "      <td>7.354643</td>\n",
              "      <td>6.259671</td>\n",
              "      <td>594067600</td>\n",
              "    </tr>\n",
              "    <tr>\n",
              "      <th>...</th>\n",
              "      <td>...</td>\n",
              "      <td>...</td>\n",
              "      <td>...</td>\n",
              "      <td>...</td>\n",
              "      <td>...</td>\n",
              "      <td>...</td>\n",
              "      <td>...</td>\n",
              "    </tr>\n",
              "    <tr>\n",
              "      <th>2505</th>\n",
              "      <td>2019-12-23</td>\n",
              "      <td>70.132500</td>\n",
              "      <td>71.062500</td>\n",
              "      <td>70.092499</td>\n",
              "      <td>71.000000</td>\n",
              "      <td>69.451065</td>\n",
              "      <td>98572000</td>\n",
              "    </tr>\n",
              "    <tr>\n",
              "      <th>2506</th>\n",
              "      <td>2019-12-24</td>\n",
              "      <td>71.172501</td>\n",
              "      <td>71.222504</td>\n",
              "      <td>70.730003</td>\n",
              "      <td>71.067497</td>\n",
              "      <td>69.517082</td>\n",
              "      <td>48478800</td>\n",
              "    </tr>\n",
              "    <tr>\n",
              "      <th>2507</th>\n",
              "      <td>2019-12-26</td>\n",
              "      <td>71.205002</td>\n",
              "      <td>72.495003</td>\n",
              "      <td>71.175003</td>\n",
              "      <td>72.477501</td>\n",
              "      <td>70.896347</td>\n",
              "      <td>93121200</td>\n",
              "    </tr>\n",
              "    <tr>\n",
              "      <th>2508</th>\n",
              "      <td>2019-12-27</td>\n",
              "      <td>72.779999</td>\n",
              "      <td>73.492500</td>\n",
              "      <td>72.029999</td>\n",
              "      <td>72.449997</td>\n",
              "      <td>70.869423</td>\n",
              "      <td>146266000</td>\n",
              "    </tr>\n",
              "    <tr>\n",
              "      <th>2509</th>\n",
              "      <td>2019-12-30</td>\n",
              "      <td>72.364998</td>\n",
              "      <td>73.172501</td>\n",
              "      <td>71.305000</td>\n",
              "      <td>72.879997</td>\n",
              "      <td>71.290047</td>\n",
              "      <td>144114400</td>\n",
              "    </tr>\n",
              "  </tbody>\n",
              "</table>\n",
              "<p>2510 rows × 7 columns</p>\n",
              "</div>\n",
              "      <button class=\"colab-df-convert\" onclick=\"convertToInteractive('df-060f19b3-8a30-4f82-b91e-d4fdb0400df5')\"\n",
              "              title=\"Convert this dataframe to an interactive table.\"\n",
              "              style=\"display:none;\">\n",
              "        \n",
              "  <svg xmlns=\"http://www.w3.org/2000/svg\" height=\"24px\"viewBox=\"0 0 24 24\"\n",
              "       width=\"24px\">\n",
              "    <path d=\"M0 0h24v24H0V0z\" fill=\"none\"/>\n",
              "    <path d=\"M18.56 5.44l.94 2.06.94-2.06 2.06-.94-2.06-.94-.94-2.06-.94 2.06-2.06.94zm-11 1L8.5 8.5l.94-2.06 2.06-.94-2.06-.94L8.5 2.5l-.94 2.06-2.06.94zm10 10l.94 2.06.94-2.06 2.06-.94-2.06-.94-.94-2.06-.94 2.06-2.06.94z\"/><path d=\"M17.41 7.96l-1.37-1.37c-.4-.4-.92-.59-1.43-.59-.52 0-1.04.2-1.43.59L10.3 9.45l-7.72 7.72c-.78.78-.78 2.05 0 2.83L4 21.41c.39.39.9.59 1.41.59.51 0 1.02-.2 1.41-.59l7.78-7.78 2.81-2.81c.8-.78.8-2.07 0-2.86zM5.41 20L4 18.59l7.72-7.72 1.47 1.35L5.41 20z\"/>\n",
              "  </svg>\n",
              "      </button>\n",
              "      \n",
              "  <style>\n",
              "    .colab-df-container {\n",
              "      display:flex;\n",
              "      flex-wrap:wrap;\n",
              "      gap: 12px;\n",
              "    }\n",
              "\n",
              "    .colab-df-convert {\n",
              "      background-color: #E8F0FE;\n",
              "      border: none;\n",
              "      border-radius: 50%;\n",
              "      cursor: pointer;\n",
              "      display: none;\n",
              "      fill: #1967D2;\n",
              "      height: 32px;\n",
              "      padding: 0 0 0 0;\n",
              "      width: 32px;\n",
              "    }\n",
              "\n",
              "    .colab-df-convert:hover {\n",
              "      background-color: #E2EBFA;\n",
              "      box-shadow: 0px 1px 2px rgba(60, 64, 67, 0.3), 0px 1px 3px 1px rgba(60, 64, 67, 0.15);\n",
              "      fill: #174EA6;\n",
              "    }\n",
              "\n",
              "    [theme=dark] .colab-df-convert {\n",
              "      background-color: #3B4455;\n",
              "      fill: #D2E3FC;\n",
              "    }\n",
              "\n",
              "    [theme=dark] .colab-df-convert:hover {\n",
              "      background-color: #434B5C;\n",
              "      box-shadow: 0px 1px 3px 1px rgba(0, 0, 0, 0.15);\n",
              "      filter: drop-shadow(0px 1px 2px rgba(0, 0, 0, 0.3));\n",
              "      fill: #FFFFFF;\n",
              "    }\n",
              "  </style>\n",
              "\n",
              "      <script>\n",
              "        const buttonEl =\n",
              "          document.querySelector('#df-060f19b3-8a30-4f82-b91e-d4fdb0400df5 button.colab-df-convert');\n",
              "        buttonEl.style.display =\n",
              "          google.colab.kernel.accessAllowed ? 'block' : 'none';\n",
              "\n",
              "        async function convertToInteractive(key) {\n",
              "          const element = document.querySelector('#df-060f19b3-8a30-4f82-b91e-d4fdb0400df5');\n",
              "          const dataTable =\n",
              "            await google.colab.kernel.invokeFunction('convertToInteractive',\n",
              "                                                     [key], {});\n",
              "          if (!dataTable) return;\n",
              "\n",
              "          const docLinkHtml = 'Like what you see? Visit the ' +\n",
              "            '<a target=\"_blank\" href=https://colab.research.google.com/notebooks/data_table.ipynb>data table notebook</a>'\n",
              "            + ' to learn more about interactive tables.';\n",
              "          element.innerHTML = '';\n",
              "          dataTable['output_type'] = 'display_data';\n",
              "          await google.colab.output.renderOutput(dataTable, element);\n",
              "          const docLink = document.createElement('div');\n",
              "          docLink.innerHTML = docLinkHtml;\n",
              "          element.appendChild(docLink);\n",
              "        }\n",
              "      </script>\n",
              "    </div>\n",
              "  </div>\n",
              "  "
            ]
          },
          "metadata": {},
          "execution_count": 2
        }
      ]
    },
    {
      "cell_type": "code",
      "source": [
        "df = df.reset_index()\n",
        "df"
      ],
      "metadata": {
        "colab": {
          "base_uri": "https://localhost:8080/",
          "height": 423
        },
        "id": "OCWlqsjfXtFq",
        "outputId": "d3088814-64b9-4251-de22-f0503b019c73"
      },
      "execution_count": 3,
      "outputs": [
        {
          "output_type": "execute_result",
          "data": {
            "text/plain": [
              "      index        Date       Open       High        Low      Close  \\\n",
              "0         0  2010-01-11   7.600000   7.607143   7.444643   7.503929   \n",
              "1         1  2010-01-12   7.471071   7.491786   7.372143   7.418571   \n",
              "2         2  2010-01-13   7.423929   7.533214   7.289286   7.523214   \n",
              "3         3  2010-01-14   7.503929   7.516429   7.465000   7.479643   \n",
              "4         4  2010-01-15   7.533214   7.557143   7.352500   7.354643   \n",
              "...     ...         ...        ...        ...        ...        ...   \n",
              "2505   2505  2019-12-23  70.132500  71.062500  70.092499  71.000000   \n",
              "2506   2506  2019-12-24  71.172501  71.222504  70.730003  71.067497   \n",
              "2507   2507  2019-12-26  71.205002  72.495003  71.175003  72.477501   \n",
              "2508   2508  2019-12-27  72.779999  73.492500  72.029999  72.449997   \n",
              "2509   2509  2019-12-30  72.364998  73.172501  71.305000  72.879997   \n",
              "\n",
              "      Adj Close     Volume  \n",
              "0      6.386731  462229600  \n",
              "1      6.314083  594459600  \n",
              "2      6.403146  605892000  \n",
              "3      6.366062  432894000  \n",
              "4      6.259671  594067600  \n",
              "...         ...        ...  \n",
              "2505  69.451065   98572000  \n",
              "2506  69.517082   48478800  \n",
              "2507  70.896347   93121200  \n",
              "2508  70.869423  146266000  \n",
              "2509  71.290047  144114400  \n",
              "\n",
              "[2510 rows x 8 columns]"
            ],
            "text/html": [
              "\n",
              "  <div id=\"df-adb5dfb0-bcf8-4075-8799-51d447d0e1ec\">\n",
              "    <div class=\"colab-df-container\">\n",
              "      <div>\n",
              "<style scoped>\n",
              "    .dataframe tbody tr th:only-of-type {\n",
              "        vertical-align: middle;\n",
              "    }\n",
              "\n",
              "    .dataframe tbody tr th {\n",
              "        vertical-align: top;\n",
              "    }\n",
              "\n",
              "    .dataframe thead th {\n",
              "        text-align: right;\n",
              "    }\n",
              "</style>\n",
              "<table border=\"1\" class=\"dataframe\">\n",
              "  <thead>\n",
              "    <tr style=\"text-align: right;\">\n",
              "      <th></th>\n",
              "      <th>index</th>\n",
              "      <th>Date</th>\n",
              "      <th>Open</th>\n",
              "      <th>High</th>\n",
              "      <th>Low</th>\n",
              "      <th>Close</th>\n",
              "      <th>Adj Close</th>\n",
              "      <th>Volume</th>\n",
              "    </tr>\n",
              "  </thead>\n",
              "  <tbody>\n",
              "    <tr>\n",
              "      <th>0</th>\n",
              "      <td>0</td>\n",
              "      <td>2010-01-11</td>\n",
              "      <td>7.600000</td>\n",
              "      <td>7.607143</td>\n",
              "      <td>7.444643</td>\n",
              "      <td>7.503929</td>\n",
              "      <td>6.386731</td>\n",
              "      <td>462229600</td>\n",
              "    </tr>\n",
              "    <tr>\n",
              "      <th>1</th>\n",
              "      <td>1</td>\n",
              "      <td>2010-01-12</td>\n",
              "      <td>7.471071</td>\n",
              "      <td>7.491786</td>\n",
              "      <td>7.372143</td>\n",
              "      <td>7.418571</td>\n",
              "      <td>6.314083</td>\n",
              "      <td>594459600</td>\n",
              "    </tr>\n",
              "    <tr>\n",
              "      <th>2</th>\n",
              "      <td>2</td>\n",
              "      <td>2010-01-13</td>\n",
              "      <td>7.423929</td>\n",
              "      <td>7.533214</td>\n",
              "      <td>7.289286</td>\n",
              "      <td>7.523214</td>\n",
              "      <td>6.403146</td>\n",
              "      <td>605892000</td>\n",
              "    </tr>\n",
              "    <tr>\n",
              "      <th>3</th>\n",
              "      <td>3</td>\n",
              "      <td>2010-01-14</td>\n",
              "      <td>7.503929</td>\n",
              "      <td>7.516429</td>\n",
              "      <td>7.465000</td>\n",
              "      <td>7.479643</td>\n",
              "      <td>6.366062</td>\n",
              "      <td>432894000</td>\n",
              "    </tr>\n",
              "    <tr>\n",
              "      <th>4</th>\n",
              "      <td>4</td>\n",
              "      <td>2010-01-15</td>\n",
              "      <td>7.533214</td>\n",
              "      <td>7.557143</td>\n",
              "      <td>7.352500</td>\n",
              "      <td>7.354643</td>\n",
              "      <td>6.259671</td>\n",
              "      <td>594067600</td>\n",
              "    </tr>\n",
              "    <tr>\n",
              "      <th>...</th>\n",
              "      <td>...</td>\n",
              "      <td>...</td>\n",
              "      <td>...</td>\n",
              "      <td>...</td>\n",
              "      <td>...</td>\n",
              "      <td>...</td>\n",
              "      <td>...</td>\n",
              "      <td>...</td>\n",
              "    </tr>\n",
              "    <tr>\n",
              "      <th>2505</th>\n",
              "      <td>2505</td>\n",
              "      <td>2019-12-23</td>\n",
              "      <td>70.132500</td>\n",
              "      <td>71.062500</td>\n",
              "      <td>70.092499</td>\n",
              "      <td>71.000000</td>\n",
              "      <td>69.451065</td>\n",
              "      <td>98572000</td>\n",
              "    </tr>\n",
              "    <tr>\n",
              "      <th>2506</th>\n",
              "      <td>2506</td>\n",
              "      <td>2019-12-24</td>\n",
              "      <td>71.172501</td>\n",
              "      <td>71.222504</td>\n",
              "      <td>70.730003</td>\n",
              "      <td>71.067497</td>\n",
              "      <td>69.517082</td>\n",
              "      <td>48478800</td>\n",
              "    </tr>\n",
              "    <tr>\n",
              "      <th>2507</th>\n",
              "      <td>2507</td>\n",
              "      <td>2019-12-26</td>\n",
              "      <td>71.205002</td>\n",
              "      <td>72.495003</td>\n",
              "      <td>71.175003</td>\n",
              "      <td>72.477501</td>\n",
              "      <td>70.896347</td>\n",
              "      <td>93121200</td>\n",
              "    </tr>\n",
              "    <tr>\n",
              "      <th>2508</th>\n",
              "      <td>2508</td>\n",
              "      <td>2019-12-27</td>\n",
              "      <td>72.779999</td>\n",
              "      <td>73.492500</td>\n",
              "      <td>72.029999</td>\n",
              "      <td>72.449997</td>\n",
              "      <td>70.869423</td>\n",
              "      <td>146266000</td>\n",
              "    </tr>\n",
              "    <tr>\n",
              "      <th>2509</th>\n",
              "      <td>2509</td>\n",
              "      <td>2019-12-30</td>\n",
              "      <td>72.364998</td>\n",
              "      <td>73.172501</td>\n",
              "      <td>71.305000</td>\n",
              "      <td>72.879997</td>\n",
              "      <td>71.290047</td>\n",
              "      <td>144114400</td>\n",
              "    </tr>\n",
              "  </tbody>\n",
              "</table>\n",
              "<p>2510 rows × 8 columns</p>\n",
              "</div>\n",
              "      <button class=\"colab-df-convert\" onclick=\"convertToInteractive('df-adb5dfb0-bcf8-4075-8799-51d447d0e1ec')\"\n",
              "              title=\"Convert this dataframe to an interactive table.\"\n",
              "              style=\"display:none;\">\n",
              "        \n",
              "  <svg xmlns=\"http://www.w3.org/2000/svg\" height=\"24px\"viewBox=\"0 0 24 24\"\n",
              "       width=\"24px\">\n",
              "    <path d=\"M0 0h24v24H0V0z\" fill=\"none\"/>\n",
              "    <path d=\"M18.56 5.44l.94 2.06.94-2.06 2.06-.94-2.06-.94-.94-2.06-.94 2.06-2.06.94zm-11 1L8.5 8.5l.94-2.06 2.06-.94-2.06-.94L8.5 2.5l-.94 2.06-2.06.94zm10 10l.94 2.06.94-2.06 2.06-.94-2.06-.94-.94-2.06-.94 2.06-2.06.94z\"/><path d=\"M17.41 7.96l-1.37-1.37c-.4-.4-.92-.59-1.43-.59-.52 0-1.04.2-1.43.59L10.3 9.45l-7.72 7.72c-.78.78-.78 2.05 0 2.83L4 21.41c.39.39.9.59 1.41.59.51 0 1.02-.2 1.41-.59l7.78-7.78 2.81-2.81c.8-.78.8-2.07 0-2.86zM5.41 20L4 18.59l7.72-7.72 1.47 1.35L5.41 20z\"/>\n",
              "  </svg>\n",
              "      </button>\n",
              "      \n",
              "  <style>\n",
              "    .colab-df-container {\n",
              "      display:flex;\n",
              "      flex-wrap:wrap;\n",
              "      gap: 12px;\n",
              "    }\n",
              "\n",
              "    .colab-df-convert {\n",
              "      background-color: #E8F0FE;\n",
              "      border: none;\n",
              "      border-radius: 50%;\n",
              "      cursor: pointer;\n",
              "      display: none;\n",
              "      fill: #1967D2;\n",
              "      height: 32px;\n",
              "      padding: 0 0 0 0;\n",
              "      width: 32px;\n",
              "    }\n",
              "\n",
              "    .colab-df-convert:hover {\n",
              "      background-color: #E2EBFA;\n",
              "      box-shadow: 0px 1px 2px rgba(60, 64, 67, 0.3), 0px 1px 3px 1px rgba(60, 64, 67, 0.15);\n",
              "      fill: #174EA6;\n",
              "    }\n",
              "\n",
              "    [theme=dark] .colab-df-convert {\n",
              "      background-color: #3B4455;\n",
              "      fill: #D2E3FC;\n",
              "    }\n",
              "\n",
              "    [theme=dark] .colab-df-convert:hover {\n",
              "      background-color: #434B5C;\n",
              "      box-shadow: 0px 1px 3px 1px rgba(0, 0, 0, 0.15);\n",
              "      filter: drop-shadow(0px 1px 2px rgba(0, 0, 0, 0.3));\n",
              "      fill: #FFFFFF;\n",
              "    }\n",
              "  </style>\n",
              "\n",
              "      <script>\n",
              "        const buttonEl =\n",
              "          document.querySelector('#df-adb5dfb0-bcf8-4075-8799-51d447d0e1ec button.colab-df-convert');\n",
              "        buttonEl.style.display =\n",
              "          google.colab.kernel.accessAllowed ? 'block' : 'none';\n",
              "\n",
              "        async function convertToInteractive(key) {\n",
              "          const element = document.querySelector('#df-adb5dfb0-bcf8-4075-8799-51d447d0e1ec');\n",
              "          const dataTable =\n",
              "            await google.colab.kernel.invokeFunction('convertToInteractive',\n",
              "                                                     [key], {});\n",
              "          if (!dataTable) return;\n",
              "\n",
              "          const docLinkHtml = 'Like what you see? Visit the ' +\n",
              "            '<a target=\"_blank\" href=https://colab.research.google.com/notebooks/data_table.ipynb>data table notebook</a>'\n",
              "            + ' to learn more about interactive tables.';\n",
              "          element.innerHTML = '';\n",
              "          dataTable['output_type'] = 'display_data';\n",
              "          await google.colab.output.renderOutput(dataTable, element);\n",
              "          const docLink = document.createElement('div');\n",
              "          docLink.innerHTML = docLinkHtml;\n",
              "          element.appendChild(docLink);\n",
              "        }\n",
              "      </script>\n",
              "    </div>\n",
              "  </div>\n",
              "  "
            ]
          },
          "metadata": {},
          "execution_count": 3
        }
      ]
    },
    {
      "cell_type": "code",
      "source": [
        "plt.plot(df.Close)"
      ],
      "metadata": {
        "colab": {
          "base_uri": "https://localhost:8080/",
          "height": 448
        },
        "id": "uNNAkrJtYhzY",
        "outputId": "27fa35ef-7e2a-400b-a545-a3ed857dcc27"
      },
      "execution_count": 11,
      "outputs": [
        {
          "output_type": "execute_result",
          "data": {
            "text/plain": [
              "[<matplotlib.lines.Line2D at 0x7f3eab0003a0>]"
            ]
          },
          "metadata": {},
          "execution_count": 11
        },
        {
          "output_type": "display_data",
          "data": {
            "text/plain": [
              "<Figure size 640x480 with 1 Axes>"
            ],
            "image/png": "[encoded data removed]"
          },
          "metadata": {}
        }
      ]
    },
    {
      "cell_type": "code",
      "source": [
        "ma100 = df.Close.rolling(100).mean()\n",
        "ma100"
      ],
      "metadata": {
        "colab": {
          "base_uri": "https://localhost:8080/"
        },
        "id": "YfRBt7yVYxgW",
        "outputId": "b5167ace-8d49-4c21-d8e3-5f7d73342d0a"
      },
      "execution_count": 12,
      "outputs": [
        {
          "output_type": "execute_result",
          "data": {
            "text/plain": [
              "0             NaN\n",
              "1             NaN\n",
              "2             NaN\n",
              "3             NaN\n",
              "4             NaN\n",
              "          ...    \n",
              "2505    59.201075\n",
              "2506    59.401700\n",
              "2507    59.643125\n",
              "2508    59.875125\n",
              "2509    60.106325\n",
              "Name: Close, Length: 2510, dtype: float64"
            ]
          },
          "metadata": {},
          "execution_count": 12
        }
      ]
    },
    {
      "cell_type": "code",
      "source": [
        "plt.figure(figsize = (12,6))\n",
        "plt.plot(df.Close)\n",
        "plt.plot(ma100, 'r')"
      ],
      "metadata": {
        "colab": {
          "base_uri": "https://localhost:8080/",
          "height": 535
        },
        "id": "DF3KFGXEY663",
        "outputId": "0d2c880c-a706-45ba-a616-dbf435b26f3b"
      },
      "execution_count": 13,
      "outputs": [
        {
          "output_type": "execute_result",
          "data": {
            "text/plain": [
              "[<matplotlib.lines.Line2D at 0x7f3eaad24220>]"
            ]
          },
          "metadata": {},
          "execution_count": 13
        },
        {
          "output_type": "display_data",
          "data": {
            "text/plain": [
              "<Figure size 1200x600 with 1 Axes>"
            ],
            "image/png": "[encoded data removed]"
          },
          "metadata": {}
        }
      ]
    },
    {
      "cell_type": "code",
      "source": [
        "ma200 = df.Close.rolling(200).mean()\n",
        "ma200"
      ],
      "metadata": {
        "colab": {
          "base_uri": "https://localhost:8080/"
        },
        "id": "VP3jByzeZYvl",
        "outputId": "ea15c99b-6918-447d-9c12-f0d4735c2842"
      },
      "execution_count": 14,
      "outputs": [
        {
          "output_type": "execute_result",
          "data": {
            "text/plain": [
              "0             NaN\n",
              "1             NaN\n",
              "2             NaN\n",
              "3             NaN\n",
              "4             NaN\n",
              "          ...    \n",
              "2505    54.132313\n",
              "2506    54.261513\n",
              "2507    54.396763\n",
              "2508    54.529350\n",
              "2509    54.661100\n",
              "Name: Close, Length: 2510, dtype: float64"
            ]
          },
          "metadata": {},
          "execution_count": 14
        }
      ]
    },
    {
      "cell_type": "code",
      "source": [
        "plt.figure(figsize = (12,6))\n",
        "plt.plot(df.Close)\n",
        "plt.plot(ma100, 'r')\n",
        "plt.plot(ma200, 'g')"
      ],
      "metadata": {
        "colab": {
          "base_uri": "https://localhost:8080/",
          "height": 535
        },
        "id": "_OIj_wKiZhKw",
        "outputId": "8dff37b7-f86a-46ff-c89a-95e8873bae1d"
      },
      "execution_count": 15,
      "outputs": [
        {
          "output_type": "execute_result",
          "data": {
            "text/plain": [
              "[<matplotlib.lines.Line2D at 0x7f3eaa911190>]"
            ]
          },
          "metadata": {},
          "execution_count": 15
        },
        {
          "output_type": "display_data",
          "data": {
            "text/plain": [
              "<Figure size 1200x600 with 1 Axes>"
            ],
            "image/png": "[encoded data removed]"
          },
          "metadata": {}
        }
      ]
    },
    {
      "cell_type": "code",
      "source": [
        "df.shape"
      ],
      "metadata": {
        "colab": {
          "base_uri": "https://localhost:8080/"
        },
        "id": "NdiQ9oZvZzAw",
        "outputId": "735eabb1-7320-43bd-fa0a-bc318b33baf6"
      },
      "execution_count": 16,
      "outputs": [
        {
          "output_type": "execute_result",
          "data": {
            "text/plain": [
              "(2510, 6)"
            ]
          },
          "metadata": {},
          "execution_count": 16
        }
      ]
    },
    {
      "cell_type": "code",
      "source": [
        "import pandas as pd\n",
        "\n",
        "data_training = pd.DataFrame(df['Close'][0:int(len(df)*0.70)])\n",
        "data_testing  = pd.DataFrame(df['Close'][int(len(df)*0.70): int(len(df))])\n",
        "\n",
        "print(data_training.shape)\n",
        "print(data_testing.shape)\n"
      ],
      "metadata": {
        "colab": {
          "base_uri": "https://localhost:8080/"
        },
        "id": "ekqZXrkgZ_IX",
        "outputId": "d2146f0c-61ce-4590-c2c6-884f068cb623"
      },
      "execution_count": 34,
      "outputs": [
        {
          "output_type": "stream",
          "name": "stdout",
          "text": [
            "(1757, 1)\n",
            "(753, 1)\n"
          ]
        }
      ]
    },
    {
      "cell_type": "code",
      "source": [
        "data_training.head()"
      ],
      "metadata": {
        "colab": {
          "base_uri": "https://localhost:8080/",
          "height": 206
        },
        "id": "MG5P1ksPmFHg",
        "outputId": "b7ba61a6-e65a-446a-87e6-331f94d4d2d1"
      },
      "execution_count": 35,
      "outputs": [
        {
          "output_type": "execute_result",
          "data": {
            "text/plain": [
              "      Close\n",
              "0  7.503929\n",
              "1  7.418571\n",
              "2  7.523214\n",
              "3  7.479643\n",
              "4  7.354643"
            ],
            "text/html": [
              "\n",
              "  <div id=\"df-704d8f8c-e355-4f5f-915a-bb0c43f8f2b2\">\n",
              "    <div class=\"colab-df-container\">\n",
              "      <div>\n",
              "<style scoped>\n",
              "    .dataframe tbody tr th:only-of-type {\n",
              "        vertical-align: middle;\n",
              "    }\n",
              "\n",
              "    .dataframe tbody tr th {\n",
              "        vertical-align: top;\n",
              "    }\n",
              "\n",
              "    .dataframe thead th {\n",
              "        text-align: right;\n",
              "    }\n",
              "</style>\n",
              "<table border=\"1\" class=\"dataframe\">\n",
              "  <thead>\n",
              "    <tr style=\"text-align: right;\">\n",
              "      <th></th>\n",
              "      <th>Close</th>\n",
              "    </tr>\n",
              "  </thead>\n",
              "  <tbody>\n",
              "    <tr>\n",
              "      <th>0</th>\n",
              "      <td>7.503929</td>\n",
              "    </tr>\n",
              "    <tr>\n",
              "      <th>1</th>\n",
              "      <td>7.418571</td>\n",
              "    </tr>\n",
              "    <tr>\n",
              "      <th>2</th>\n",
              "      <td>7.523214</td>\n",
              "    </tr>\n",
              "    <tr>\n",
              "      <th>3</th>\n",
              "      <td>7.479643</td>\n",
              "    </tr>\n",
              "    <tr>\n",
              "      <th>4</th>\n",
              "      <td>7.354643</td>\n",
              "    </tr>\n",
              "  </tbody>\n",
              "</table>\n",
              "</div>\n",
              "      <button class=\"colab-df-convert\" onclick=\"convertToInteractive('df-704d8f8c-e355-4f5f-915a-bb0c43f8f2b2')\"\n",
              "              title=\"Convert this dataframe to an interactive table.\"\n",
              "              style=\"display:none;\">\n",
              "        \n",
              "  <svg xmlns=\"http://www.w3.org/2000/svg\" height=\"24px\"viewBox=\"0 0 24 24\"\n",
              "       width=\"24px\">\n",
              "    <path d=\"M0 0h24v24H0V0z\" fill=\"none\"/>\n",
              "    <path d=\"M18.56 5.44l.94 2.06.94-2.06 2.06-.94-2.06-.94-.94-2.06-.94 2.06-2.06.94zm-11 1L8.5 8.5l.94-2.06 2.06-.94-2.06-.94L8.5 2.5l-.94 2.06-2.06.94zm10 10l.94 2.06.94-2.06 2.06-.94-2.06-.94-.94-2.06-.94 2.06-2.06.94z\"/><path d=\"M17.41 7.96l-1.37-1.37c-.4-.4-.92-.59-1.43-.59-.52 0-1.04.2-1.43.59L10.3 9.45l-7.72 7.72c-.78.78-.78 2.05 0 2.83L4 21.41c.39.39.9.59 1.41.59.51 0 1.02-.2 1.41-.59l7.78-7.78 2.81-2.81c.8-.78.8-2.07 0-2.86zM5.41 20L4 18.59l7.72-7.72 1.47 1.35L5.41 20z\"/>\n",
              "  </svg>\n",
              "      </button>\n",
              "      \n",
              "  <style>\n",
              "    .colab-df-container {\n",
              "      display:flex;\n",
              "      flex-wrap:wrap;\n",
              "      gap: 12px;\n",
              "    }\n",
              "\n",
              "    .colab-df-convert {\n",
              "      background-color: #E8F0FE;\n",
              "      border: none;\n",
              "      border-radius: 50%;\n",
              "      cursor: pointer;\n",
              "      display: none;\n",
              "      fill: #1967D2;\n",
              "      height: 32px;\n",
              "      padding: 0 0 0 0;\n",
              "      width: 32px;\n",
              "    }\n",
              "\n",
              "    .colab-df-convert:hover {\n",
              "      background-color: #E2EBFA;\n",
              "      box-shadow: 0px 1px 2px rgba(60, 64, 67, 0.3), 0px 1px 3px 1px rgba(60, 64, 67, 0.15);\n",
              "      fill: #174EA6;\n",
              "    }\n",
              "\n",
              "    [theme=dark] .colab-df-convert {\n",
              "      background-color: #3B4455;\n",
              "      fill: #D2E3FC;\n",
              "    }\n",
              "\n",
              "    [theme=dark] .colab-df-convert:hover {\n",
              "      background-color: #434B5C;\n",
              "      box-shadow: 0px 1px 3px 1px rgba(0, 0, 0, 0.15);\n",
              "      filter: drop-shadow(0px 1px 2px rgba(0, 0, 0, 0.3));\n",
              "      fill: #FFFFFF;\n",
              "    }\n",
              "  </style>\n",
              "\n",
              "      <script>\n",
              "        const buttonEl =\n",
              "          document.querySelector('#df-704d8f8c-e355-4f5f-915a-bb0c43f8f2b2 button.colab-df-convert');\n",
              "        buttonEl.style.display =\n",
              "          google.colab.kernel.accessAllowed ? 'block' : 'none';\n",
              "\n",
              "        async function convertToInteractive(key) {\n",
              "          const element = document.querySelector('#df-704d8f8c-e355-4f5f-915a-bb0c43f8f2b2');\n",
              "          const dataTable =\n",
              "            await google.colab.kernel.invokeFunction('convertToInteractive',\n",
              "                                                     [key], {});\n",
              "          if (!dataTable) return;\n",
              "\n",
              "          const docLinkHtml = 'Like what you see? Visit the ' +\n",
              "            '<a target=\"_blank\" href=https://colab.research.google.com/notebooks/data_table.ipynb>data table notebook</a>'\n",
              "            + ' to learn more about interactive tables.';\n",
              "          element.innerHTML = '';\n",
              "          dataTable['output_type'] = 'display_data';\n",
              "          await google.colab.output.renderOutput(dataTable, element);\n",
              "          const docLink = document.createElement('div');\n",
              "          docLink.innerHTML = docLinkHtml;\n",
              "          element.appendChild(docLink);\n",
              "        }\n",
              "      </script>\n",
              "    </div>\n",
              "  </div>\n",
              "  "
            ]
          },
          "metadata": {},
          "execution_count": 35
        }
      ]
    },
    {
      "cell_type": "code",
      "source": [
        "data_testing.head()"
      ],
      "metadata": {
        "colab": {
          "base_uri": "https://localhost:8080/",
          "height": 206
        },
        "id": "TaVyga-7mLz8",
        "outputId": "3a84e30a-9ea7-4f56-ed32-453de59b6a5e"
      },
      "execution_count": 36,
      "outputs": [
        {
          "output_type": "execute_result",
          "data": {
            "text/plain": [
              "          Close\n",
              "1757  29.037500\n",
              "1758  29.004999\n",
              "1759  29.152500\n",
              "1760  29.477501\n",
              "1761  29.747499"
            ],
            "text/html": [
              "\n",
              "  <div id=\"df-f868cd24-584c-4f50-9a30-8acc32d239aa\">\n",
              "    <div class=\"colab-df-container\">\n",
              "      <div>\n",
              "<style scoped>\n",
              "    .dataframe tbody tr th:only-of-type {\n",
              "        vertical-align: middle;\n",
              "    }\n",
              "\n",
              "    .dataframe tbody tr th {\n",
              "        vertical-align: top;\n",
              "    }\n",
              "\n",
              "    .dataframe thead th {\n",
              "        text-align: right;\n",
              "    }\n",
              "</style>\n",
              "<table border=\"1\" class=\"dataframe\">\n",
              "  <thead>\n",
              "    <tr style=\"text-align: right;\">\n",
              "      <th></th>\n",
              "      <th>Close</th>\n",
              "    </tr>\n",
              "  </thead>\n",
              "  <tbody>\n",
              "    <tr>\n",
              "      <th>1757</th>\n",
              "      <td>29.037500</td>\n",
              "    </tr>\n",
              "    <tr>\n",
              "      <th>1758</th>\n",
              "      <td>29.004999</td>\n",
              "    </tr>\n",
              "    <tr>\n",
              "      <th>1759</th>\n",
              "      <td>29.152500</td>\n",
              "    </tr>\n",
              "    <tr>\n",
              "      <th>1760</th>\n",
              "      <td>29.477501</td>\n",
              "    </tr>\n",
              "    <tr>\n",
              "      <th>1761</th>\n",
              "      <td>29.747499</td>\n",
              "    </tr>\n",
              "  </tbody>\n",
              "</table>\n",
              "</div>\n",
              "      <button class=\"colab-df-convert\" onclick=\"convertToInteractive('df-f868cd24-584c-4f50-9a30-8acc32d239aa')\"\n",
              "              title=\"Convert this dataframe to an interactive table.\"\n",
              "              style=\"display:none;\">\n",
              "        \n",
              "  <svg xmlns=\"http://www.w3.org/2000/svg\" height=\"24px\"viewBox=\"0 0 24 24\"\n",
              "       width=\"24px\">\n",
              "    <path d=\"M0 0h24v24H0V0z\" fill=\"none\"/>\n",
              "    <path d=\"M18.56 5.44l.94 2.06.94-2.06 2.06-.94-2.06-.94-.94-2.06-.94 2.06-2.06.94zm-11 1L8.5 8.5l.94-2.06 2.06-.94-2.06-.94L8.5 2.5l-.94 2.06-2.06.94zm10 10l.94 2.06.94-2.06 2.06-.94-2.06-.94-.94-2.06-.94 2.06-2.06.94z\"/><path d=\"M17.41 7.96l-1.37-1.37c-.4-.4-.92-.59-1.43-.59-.52 0-1.04.2-1.43.59L10.3 9.45l-7.72 7.72c-.78.78-.78 2.05 0 2.83L4 21.41c.39.39.9.59 1.41.59.51 0 1.02-.2 1.41-.59l7.78-7.78 2.81-2.81c.8-.78.8-2.07 0-2.86zM5.41 20L4 18.59l7.72-7.72 1.47 1.35L5.41 20z\"/>\n",
              "  </svg>\n",
              "      </button>\n",
              "      \n",
              "  <style>\n",
              "    .colab-df-container {\n",
              "      display:flex;\n",
              "      flex-wrap:wrap;\n",
              "      gap: 12px;\n",
              "    }\n",
              "\n",
              "    .colab-df-convert {\n",
              "      background-color: #E8F0FE;\n",
              "      border: none;\n",
              "      border-radius: 50%;\n",
              "      cursor: pointer;\n",
              "      display: none;\n",
              "      fill: #1967D2;\n",
              "      height: 32px;\n",
              "      padding: 0 0 0 0;\n",
              "      width: 32px;\n",
              "    }\n",
              "\n",
              "    .colab-df-convert:hover {\n",
              "      background-color: #E2EBFA;\n",
              "      box-shadow: 0px 1px 2px rgba(60, 64, 67, 0.3), 0px 1px 3px 1px rgba(60, 64, 67, 0.15);\n",
              "      fill: #174EA6;\n",
              "    }\n",
              "\n",
              "    [theme=dark] .colab-df-convert {\n",
              "      background-color: #3B4455;\n",
              "      fill: #D2E3FC;\n",
              "    }\n",
              "\n",
              "    [theme=dark] .colab-df-convert:hover {\n",
              "      background-color: #434B5C;\n",
              "      box-shadow: 0px 1px 3px 1px rgba(0, 0, 0, 0.15);\n",
              "      filter: drop-shadow(0px 1px 2px rgba(0, 0, 0, 0.3));\n",
              "      fill: #FFFFFF;\n",
              "    }\n",
              "  </style>\n",
              "\n",
              "      <script>\n",
              "        const buttonEl =\n",
              "          document.querySelector('#df-f868cd24-584c-4f50-9a30-8acc32d239aa button.colab-df-convert');\n",
              "        buttonEl.style.display =\n",
              "          google.colab.kernel.accessAllowed ? 'block' : 'none';\n",
              "\n",
              "        async function convertToInteractive(key) {\n",
              "          const element = document.querySelector('#df-f868cd24-584c-4f50-9a30-8acc32d239aa');\n",
              "          const dataTable =\n",
              "            await google.colab.kernel.invokeFunction('convertToInteractive',\n",
              "                                                     [key], {});\n",
              "          if (!dataTable) return;\n",
              "\n",
              "          const docLinkHtml = 'Like what you see? Visit the ' +\n",
              "            '<a target=\"_blank\" href=https://colab.research.google.com/notebooks/data_table.ipynb>data table notebook</a>'\n",
              "            + ' to learn more about interactive tables.';\n",
              "          element.innerHTML = '';\n",
              "          dataTable['output_type'] = 'display_data';\n",
              "          await google.colab.output.renderOutput(dataTable, element);\n",
              "          const docLink = document.createElement('div');\n",
              "          docLink.innerHTML = docLinkHtml;\n",
              "          element.appendChild(docLink);\n",
              "        }\n",
              "      </script>\n",
              "    </div>\n",
              "  </div>\n",
              "  "
            ]
          },
          "metadata": {},
          "execution_count": 36
        }
      ]
    },
    {
      "cell_type": "code",
      "source": [
        "from sklearn.preprocessing import MinMaxScaler\n",
        "scaler = MinMaxScaler(feature_range=(0,1))"
      ],
      "metadata": {
        "id": "gnFuewnwmVmK"
      },
      "execution_count": 37,
      "outputs": []
    },
    {
      "cell_type": "code",
      "source": [
        "data_training_array = scaler.fit_transform(data_training)\n",
        "data_training_array"
      ],
      "metadata": {
        "colab": {
          "base_uri": "https://localhost:8080/"
        },
        "id": "BUojZrB8mqs5",
        "outputId": "54773963-ad29-45d8-85be-6ad19f49d72d"
      },
      "execution_count": 41,
      "outputs": [
        {
          "output_type": "execute_result",
          "data": {
            "text/plain": [
              "array([[0.02444008],\n",
              "       [0.02120573],\n",
              "       [0.02517082],\n",
              "       ...,\n",
              "       [0.84616013],\n",
              "       [0.84587594],\n",
              "       [0.83725556]])"
            ]
          },
          "metadata": {},
          "execution_count": 41
        }
      ]
    },
    {
      "cell_type": "code",
      "source": [
        "data_training_array.shape"
      ],
      "metadata": {
        "colab": {
          "base_uri": "https://localhost:8080/"
        },
        "id": "QM0EEe52nVR9",
        "outputId": "b39adbe3-9507-46ea-e871-a9c8dc72f088"
      },
      "execution_count": 42,
      "outputs": [
        {
          "output_type": "execute_result",
          "data": {
            "text/plain": [
              "(1757, 1)"
            ]
          },
          "metadata": {},
          "execution_count": 42
        }
      ]
    },
    {
      "cell_type": "code",
      "source": [
        "x_train = []\n",
        "y_train = []\n",
        "\n",
        "for i in range(100,data_training_array.shape[0]):\n",
        "    x_train.append(data_training_array[i-100: i])\n",
        "    y_train.append(data_training_array[i, 0])\n",
        "\n",
        "\n",
        "    x_train\n",
        "\n",
        "  \n",
        "  \n",
        "\n"
      ],
      "metadata": {
        "id": "VFSynkgsnHsX"
      },
      "execution_count": 71,
      "outputs": []
    },
    {
      "cell_type": "code",
      "source": [
        "x_train, y_train = np.array(x_train), np.array(y_train)"
      ],
      "metadata": {
        "id": "fyeqkXkrwON3"
      },
      "execution_count": 72,
      "outputs": []
    },
    {
      "cell_type": "code",
      "source": [
        "x_train.shape"
      ],
      "metadata": {
        "colab": {
          "base_uri": "https://localhost:8080/"
        },
        "id": "_KuYIrEeqBtM",
        "outputId": "b9659e19-748d-453d-c8ad-a5cb743429f8"
      },
      "execution_count": 73,
      "outputs": [
        {
          "output_type": "execute_result",
          "data": {
            "text/plain": [
              "(1657, 100, 1)"
            ]
          },
          "metadata": {},
          "execution_count": 73
        }
      ]
    },
    {
      "cell_type": "code",
      "source": [
        "from keras.layers import Dense, Dropout, LSTM\n",
        "from keras.models import Sequential"
      ],
      "metadata": {
        "id": "zTlVGjvnpp_I"
      },
      "execution_count": 56,
      "outputs": []
    },
    {
      "cell_type": "code",
      "source": [
        "model = Sequential()\n",
        "model.add(LSTM(units = 50, activation = 'relu', return_sequences = True,\n",
        "               input_shape = (x_train.shape[1], 1)))\n",
        "model.add(Dropout(0.2))\n",
        "\n",
        "model = Sequential()\n",
        "model.add(LSTM(units = 60, activation = 'relu', return_sequences = True))\n",
        "model.add(Dropout(0.3))\n",
        "\n",
        "\n",
        "\n",
        "model.add(LSTM(units = 80, activation = 'relu', return_sequences = True))\n",
        "model.add(Dropout(0.4))\n",
        "\n",
        "\n",
        "\n",
        "model.add(LSTM(units = 120, activation = 'relu', return_sequences = True))\n",
        "model.add(Dropout(0.5))\n",
        "\n",
        "model.add(Dense(units = 1))"
      ],
      "metadata": {
        "id": "EJULPZu4qNZN"
      },
      "execution_count": 74,
      "outputs": []
    },
    {
      "cell_type": "code",
      "source": [
        "model.summary"
      ],
      "metadata": {
        "colab": {
          "base_uri": "https://localhost:8080/"
        },
        "id": "zs-4nBqlwk3t",
        "outputId": "38e8cbf9-a768-4dc0-9ae0-ed558cb9849f"
      },
      "execution_count": 81,
      "outputs": [
        {
          "output_type": "execute_result",
          "data": {
            "text/plain": [
              "<bound method Model.summary of <keras.engine.sequential.Sequential object at 0x7f3e4b510d00>>"
            ]
          },
          "metadata": {},
          "execution_count": 81
        }
      ]
    },
    {
      "cell_type": "code",
      "source": [
        "model.compile(optimizer='adam', loss = 'mean_squared_error')\n",
        "model.fit(x_train, y_train, epochs = 50)"
      ],
      "metadata": {
        "colab": {
          "base_uri": "https://localhost:8080/"
        },
        "id": "WKNH3FNoxPz8",
        "outputId": "242e45c4-1f1a-48e6-be9c-deac6f384f2b"
      },
      "execution_count": 82,
      "outputs": [
        {
          "output_type": "stream",
          "name": "stdout",
          "text": [
            "Epoch 1/50\n",
            "52/52 [==============================] - 22s 298ms/step - loss: 0.1132\n",
            "Epoch 2/50\n",
            "52/52 [==============================] - 15s 292ms/step - loss: 0.0741\n",
            "Epoch 3/50\n",
            "52/52 [==============================] - 17s 329ms/step - loss: 0.0715\n",
            "Epoch 4/50\n",
            "52/52 [==============================] - 15s 298ms/step - loss: 0.0705\n",
            "Epoch 5/50\n",
            "52/52 [==============================] - 16s 303ms/step - loss: 0.0694\n",
            "Epoch 6/50\n",
            "52/52 [==============================] - 17s 317ms/step - loss: 0.0690\n",
            "Epoch 7/50\n",
            "52/52 [==============================] - 16s 305ms/step - loss: 0.0689\n",
            "Epoch 8/50\n",
            "52/52 [==============================] - 15s 298ms/step - loss: 0.0680\n",
            "Epoch 9/50\n",
            "52/52 [==============================] - 15s 294ms/step - loss: 0.0676\n",
            "Epoch 10/50\n",
            "52/52 [==============================] - 15s 297ms/step - loss: 0.0671\n",
            "Epoch 11/50\n",
            "52/52 [==============================] - 15s 295ms/step - loss: 0.0666\n",
            "Epoch 12/50\n",
            "52/52 [==============================] - 15s 296ms/step - loss: 0.0668\n",
            "Epoch 13/50\n",
            "52/52 [==============================] - 15s 297ms/step - loss: 0.0665\n",
            "Epoch 14/50\n",
            "52/52 [==============================] - 17s 315ms/step - loss: 0.0664\n",
            "Epoch 15/50\n",
            "52/52 [==============================] - 16s 300ms/step - loss: 0.0663\n",
            "Epoch 16/50\n",
            "52/52 [==============================] - 15s 295ms/step - loss: 0.0662\n",
            "Epoch 17/50\n",
            "52/52 [==============================] - 15s 295ms/step - loss: 0.0659\n",
            "Epoch 18/50\n",
            "52/52 [==============================] - 15s 297ms/step - loss: 0.0659\n",
            "Epoch 19/50\n",
            "52/52 [==============================] - 16s 299ms/step - loss: 0.0660\n",
            "Epoch 20/50\n",
            "52/52 [==============================] - 15s 294ms/step - loss: 0.0661\n",
            "Epoch 21/50\n",
            "52/52 [==============================] - 15s 296ms/step - loss: 0.0656\n",
            "Epoch 22/50\n",
            "52/52 [==============================] - 16s 308ms/step - loss: 0.0654\n",
            "Epoch 23/50\n",
            "52/52 [==============================] - 17s 315ms/step - loss: 0.0654\n",
            "Epoch 24/50\n",
            "52/52 [==============================] - 15s 295ms/step - loss: 0.0653\n",
            "Epoch 25/50\n",
            "52/52 [==============================] - 15s 294ms/step - loss: 0.0653\n",
            "Epoch 26/50\n",
            "52/52 [==============================] - 15s 297ms/step - loss: 0.0655\n",
            "Epoch 27/50\n",
            "52/52 [==============================] - 15s 295ms/step - loss: 0.0650\n",
            "Epoch 28/50\n",
            "52/52 [==============================] - 15s 294ms/step - loss: 0.0651\n",
            "Epoch 29/50\n",
            "52/52 [==============================] - 15s 293ms/step - loss: 0.0653\n",
            "Epoch 30/50\n",
            "52/52 [==============================] - 15s 296ms/step - loss: 0.0652\n",
            "Epoch 31/50\n",
            "52/52 [==============================] - 16s 310ms/step - loss: 0.0650\n",
            "Epoch 32/50\n",
            "52/52 [==============================] - 16s 309ms/step - loss: 0.0646\n",
            "Epoch 33/50\n",
            "52/52 [==============================] - 15s 294ms/step - loss: 0.0647\n",
            "Epoch 34/50\n",
            "52/52 [==============================] - 15s 296ms/step - loss: 0.0648\n",
            "Epoch 35/50\n",
            "52/52 [==============================] - 15s 296ms/step - loss: 0.0646\n",
            "Epoch 36/50\n",
            "52/52 [==============================] - 15s 294ms/step - loss: 0.0647\n",
            "Epoch 37/50\n",
            "52/52 [==============================] - 15s 295ms/step - loss: 0.0648\n",
            "Epoch 38/50\n",
            "52/52 [==============================] - 15s 297ms/step - loss: 0.0644\n",
            "Epoch 39/50\n",
            "52/52 [==============================] - 15s 298ms/step - loss: 0.0644\n",
            "Epoch 40/50\n",
            "52/52 [==============================] - 16s 312ms/step - loss: 0.0643\n",
            "Epoch 41/50\n",
            "52/52 [==============================] - 16s 303ms/step - loss: 0.0645\n",
            "Epoch 42/50\n",
            "52/52 [==============================] - 16s 300ms/step - loss: 0.0643\n",
            "Epoch 43/50\n",
            "52/52 [==============================] - 16s 301ms/step - loss: 0.0642\n",
            "Epoch 44/50\n",
            "52/52 [==============================] - 15s 295ms/step - loss: 0.0643\n",
            "Epoch 45/50\n",
            "52/52 [==============================] - 15s 298ms/step - loss: 0.0643\n",
            "Epoch 46/50\n",
            "52/52 [==============================] - 15s 296ms/step - loss: 0.0642\n",
            "Epoch 47/50\n",
            "52/52 [==============================] - 15s 297ms/step - loss: 0.0640\n",
            "Epoch 48/50\n",
            "52/52 [==============================] - 17s 321ms/step - loss: 0.0646\n",
            "Epoch 49/50\n",
            "52/52 [==============================] - 16s 309ms/step - loss: 0.0641\n",
            "Epoch 50/50\n",
            "52/52 [==============================] - 16s 310ms/step - loss: 0.0641\n"
          ]
        },
        {
          "output_type": "execute_result",
          "data": {
            "text/plain": [
              "<keras.callbacks.History at 0x7f3e4822fd90>"
            ]
          },
          "metadata": {},
          "execution_count": 82
        }
      ]
    },
    {
      "cell_type": "code",
      "source": [
        "model.save('keras_model.h5')"
      ],
      "metadata": {
        "id": "ud-4BG4H00E3"
      },
      "execution_count": 83,
      "outputs": []
    },
    {
      "cell_type": "code",
      "source": [
        "data_testing.head()"
      ],
      "metadata": {
        "colab": {
          "base_uri": "https://localhost:8080/",
          "height": 206
        },
        "id": "8O9yICtC1Si2",
        "outputId": "a00004ba-6701-4d5d-81e7-431dceae340c"
      },
      "execution_count": 84,
      "outputs": [
        {
          "output_type": "execute_result",
          "data": {
            "text/plain": [
              "          Close\n",
              "1757  29.037500\n",
              "1758  29.004999\n",
              "1759  29.152500\n",
              "1760  29.477501\n",
              "1761  29.747499"
            ],
            "text/html": [
              "\n",
              "  <div id=\"df-ef39c41e-8edd-48ae-9935-287925e34da8\">\n",
              "    <div class=\"colab-df-container\">\n",
              "      <div>\n",
              "<style scoped>\n",
              "    .dataframe tbody tr th:only-of-type {\n",
              "        vertical-align: middle;\n",
              "    }\n",
              "\n",
              "    .dataframe tbody tr th {\n",
              "        vertical-align: top;\n",
              "    }\n",
              "\n",
              "    .dataframe thead th {\n",
              "        text-align: right;\n",
              "    }\n",
              "</style>\n",
              "<table border=\"1\" class=\"dataframe\">\n",
              "  <thead>\n",
              "    <tr style=\"text-align: right;\">\n",
              "      <th></th>\n",
              "      <th>Close</th>\n",
              "    </tr>\n",
              "  </thead>\n",
              "  <tbody>\n",
              "    <tr>\n",
              "      <th>1757</th>\n",
              "      <td>29.037500</td>\n",
              "    </tr>\n",
              "    <tr>\n",
              "      <th>1758</th>\n",
              "      <td>29.004999</td>\n",
              "    </tr>\n",
              "    <tr>\n",
              "      <th>1759</th>\n",
              "      <td>29.152500</td>\n",
              "    </tr>\n",
              "    <tr>\n",
              "      <th>1760</th>\n",
              "      <td>29.477501</td>\n",
              "    </tr>\n",
              "    <tr>\n",
              "      <th>1761</th>\n",
              "      <td>29.747499</td>\n",
              "    </tr>\n",
              "  </tbody>\n",
              "</table>\n",
              "</div>\n",
              "      <button class=\"colab-df-convert\" onclick=\"convertToInteractive('df-ef39c41e-8edd-48ae-9935-287925e34da8')\"\n",
              "              title=\"Convert this dataframe to an interactive table.\"\n",
              "              style=\"display:none;\">\n",
              "        \n",
              "  <svg xmlns=\"http://www.w3.org/2000/svg\" height=\"24px\"viewBox=\"0 0 24 24\"\n",
              "       width=\"24px\">\n",
              "    <path d=\"M0 0h24v24H0V0z\" fill=\"none\"/>\n",
              "    <path d=\"M18.56 5.44l.94 2.06.94-2.06 2.06-.94-2.06-.94-.94-2.06-.94 2.06-2.06.94zm-11 1L8.5 8.5l.94-2.06 2.06-.94-2.06-.94L8.5 2.5l-.94 2.06-2.06.94zm10 10l.94 2.06.94-2.06 2.06-.94-2.06-.94-.94-2.06-.94 2.06-2.06.94z\"/><path d=\"M17.41 7.96l-1.37-1.37c-.4-.4-.92-.59-1.43-.59-.52 0-1.04.2-1.43.59L10.3 9.45l-7.72 7.72c-.78.78-.78 2.05 0 2.83L4 21.41c.39.39.9.59 1.41.59.51 0 1.02-.2 1.41-.59l7.78-7.78 2.81-2.81c.8-.78.8-2.07 0-2.86zM5.41 20L4 18.59l7.72-7.72 1.47 1.35L5.41 20z\"/>\n",
              "  </svg>\n",
              "      </button>\n",
              "      \n",
              "  <style>\n",
              "    .colab-df-container {\n",
              "      display:flex;\n",
              "      flex-wrap:wrap;\n",
              "      gap: 12px;\n",
              "    }\n",
              "\n",
              "    .colab-df-convert {\n",
              "      background-color: #E8F0FE;\n",
              "      border: none;\n",
              "      border-radius: 50%;\n",
              "      cursor: pointer;\n",
              "      display: none;\n",
              "      fill: #1967D2;\n",
              "      height: 32px;\n",
              "      padding: 0 0 0 0;\n",
              "      width: 32px;\n",
              "    }\n",
              "\n",
              "    .colab-df-convert:hover {\n",
              "      background-color: #E2EBFA;\n",
              "      box-shadow: 0px 1px 2px rgba(60, 64, 67, 0.3), 0px 1px 3px 1px rgba(60, 64, 67, 0.15);\n",
              "      fill: #174EA6;\n",
              "    }\n",
              "\n",
              "    [theme=dark] .colab-df-convert {\n",
              "      background-color: #3B4455;\n",
              "      fill: #D2E3FC;\n",
              "    }\n",
              "\n",
              "    [theme=dark] .colab-df-convert:hover {\n",
              "      background-color: #434B5C;\n",
              "      box-shadow: 0px 1px 3px 1px rgba(0, 0, 0, 0.15);\n",
              "      filter: drop-shadow(0px 1px 2px rgba(0, 0, 0, 0.3));\n",
              "      fill: #FFFFFF;\n",
              "    }\n",
              "  </style>\n",
              "\n",
              "      <script>\n",
              "        const buttonEl =\n",
              "          document.querySelector('#df-ef39c41e-8edd-48ae-9935-287925e34da8 button.colab-df-convert');\n",
              "        buttonEl.style.display =\n",
              "          google.colab.kernel.accessAllowed ? 'block' : 'none';\n",
              "\n",
              "        async function convertToInteractive(key) {\n",
              "          const element = document.querySelector('#df-ef39c41e-8edd-48ae-9935-287925e34da8');\n",
              "          const dataTable =\n",
              "            await google.colab.kernel.invokeFunction('convertToInteractive',\n",
              "                                                     [key], {});\n",
              "          if (!dataTable) return;\n",
              "\n",
              "          const docLinkHtml = 'Like what you see? Visit the ' +\n",
              "            '<a target=\"_blank\" href=https://colab.research.google.com/notebooks/data_table.ipynb>data table notebook</a>'\n",
              "            + ' to learn more about interactive tables.';\n",
              "          element.innerHTML = '';\n",
              "          dataTable['output_type'] = 'display_data';\n",
              "          await google.colab.output.renderOutput(dataTable, element);\n",
              "          const docLink = document.createElement('div');\n",
              "          docLink.innerHTML = docLinkHtml;\n",
              "          element.appendChild(docLink);\n",
              "        }\n",
              "      </script>\n",
              "    </div>\n",
              "  </div>\n",
              "  "
            ]
          },
          "metadata": {},
          "execution_count": 84
        }
      ]
    },
    {
      "cell_type": "code",
      "source": [
        "data_training.tail(100)"
      ],
      "metadata": {
        "colab": {
          "base_uri": "https://localhost:8080/",
          "height": 423
        },
        "id": "S7b1kuCA1g76",
        "outputId": "f18d2578-8065-4068-86ac-a2d54bcd848a"
      },
      "execution_count": 85,
      "outputs": [
        {
          "output_type": "execute_result",
          "data": {
            "text/plain": [
              "          Close\n",
              "1657  27.000000\n",
              "1658  26.982500\n",
              "1659  27.045000\n",
              "1660  27.370001\n",
              "1661  27.344999\n",
              "...         ...\n",
              "1752  29.129999\n",
              "1753  29.315001\n",
              "1754  29.190001\n",
              "1755  29.182501\n",
              "1756  28.955000\n",
              "\n",
              "[100 rows x 1 columns]"
            ],
            "text/html": [
              "\n",
              "  <div id=\"df-1d7efc48-b1a0-44b3-adba-3ba34ab29b48\">\n",
              "    <div class=\"colab-df-container\">\n",
              "      <div>\n",
              "<style scoped>\n",
              "    .dataframe tbody tr th:only-of-type {\n",
              "        vertical-align: middle;\n",
              "    }\n",
              "\n",
              "    .dataframe tbody tr th {\n",
              "        vertical-align: top;\n",
              "    }\n",
              "\n",
              "    .dataframe thead th {\n",
              "        text-align: right;\n",
              "    }\n",
              "</style>\n",
              "<table border=\"1\" class=\"dataframe\">\n",
              "  <thead>\n",
              "    <tr style=\"text-align: right;\">\n",
              "      <th></th>\n",
              "      <th>Close</th>\n",
              "    </tr>\n",
              "  </thead>\n",
              "  <tbody>\n",
              "    <tr>\n",
              "      <th>1657</th>\n",
              "      <td>27.000000</td>\n",
              "    </tr>\n",
              "    <tr>\n",
              "      <th>1658</th>\n",
              "      <td>26.982500</td>\n",
              "    </tr>\n",
              "    <tr>\n",
              "      <th>1659</th>\n",
              "      <td>27.045000</td>\n",
              "    </tr>\n",
              "    <tr>\n",
              "      <th>1660</th>\n",
              "      <td>27.370001</td>\n",
              "    </tr>\n",
              "    <tr>\n",
              "      <th>1661</th>\n",
              "      <td>27.344999</td>\n",
              "    </tr>\n",
              "    <tr>\n",
              "      <th>...</th>\n",
              "      <td>...</td>\n",
              "    </tr>\n",
              "    <tr>\n",
              "      <th>1752</th>\n",
              "      <td>29.129999</td>\n",
              "    </tr>\n",
              "    <tr>\n",
              "      <th>1753</th>\n",
              "      <td>29.315001</td>\n",
              "    </tr>\n",
              "    <tr>\n",
              "      <th>1754</th>\n",
              "      <td>29.190001</td>\n",
              "    </tr>\n",
              "    <tr>\n",
              "      <th>1755</th>\n",
              "      <td>29.182501</td>\n",
              "    </tr>\n",
              "    <tr>\n",
              "      <th>1756</th>\n",
              "      <td>28.955000</td>\n",
              "    </tr>\n",
              "  </tbody>\n",
              "</table>\n",
              "<p>100 rows × 1 columns</p>\n",
              "</div>\n",
              "      <button class=\"colab-df-convert\" onclick=\"convertToInteractive('df-1d7efc48-b1a0-44b3-adba-3ba34ab29b48')\"\n",
              "              title=\"Convert this dataframe to an interactive table.\"\n",
              "              style=\"display:none;\">\n",
              "        \n",
              "  <svg xmlns=\"http://www.w3.org/2000/svg\" height=\"24px\"viewBox=\"0 0 24 24\"\n",
              "       width=\"24px\">\n",
              "    <path d=\"M0 0h24v24H0V0z\" fill=\"none\"/>\n",
              "    <path d=\"M18.56 5.44l.94 2.06.94-2.06 2.06-.94-2.06-.94-.94-2.06-.94 2.06-2.06.94zm-11 1L8.5 8.5l.94-2.06 2.06-.94-2.06-.94L8.5 2.5l-.94 2.06-2.06.94zm10 10l.94 2.06.94-2.06 2.06-.94-2.06-.94-.94-2.06-.94 2.06-2.06.94z\"/><path d=\"M17.41 7.96l-1.37-1.37c-.4-.4-.92-.59-1.43-.59-.52 0-1.04.2-1.43.59L10.3 9.45l-7.72 7.72c-.78.78-.78 2.05 0 2.83L4 21.41c.39.39.9.59 1.41.59.51 0 1.02-.2 1.41-.59l7.78-7.78 2.81-2.81c.8-.78.8-2.07 0-2.86zM5.41 20L4 18.59l7.72-7.72 1.47 1.35L5.41 20z\"/>\n",
              "  </svg>\n",
              "      </button>\n",
              "      \n",
              "  <style>\n",
              "    .colab-df-container {\n",
              "      display:flex;\n",
              "      flex-wrap:wrap;\n",
              "      gap: 12px;\n",
              "    }\n",
              "\n",
              "    .colab-df-convert {\n",
              "      background-color: #E8F0FE;\n",
              "      border: none;\n",
              "      border-radius: 50%;\n",
              "      cursor: pointer;\n",
              "      display: none;\n",
              "      fill: #1967D2;\n",
              "      height: 32px;\n",
              "      padding: 0 0 0 0;\n",
              "      width: 32px;\n",
              "    }\n",
              "\n",
              "    .colab-df-convert:hover {\n",
              "      background-color: #E2EBFA;\n",
              "      box-shadow: 0px 1px 2px rgba(60, 64, 67, 0.3), 0px 1px 3px 1px rgba(60, 64, 67, 0.15);\n",
              "      fill: #174EA6;\n",
              "    }\n",
              "\n",
              "    [theme=dark] .colab-df-convert {\n",
              "      background-color: #3B4455;\n",
              "      fill: #D2E3FC;\n",
              "    }\n",
              "\n",
              "    [theme=dark] .colab-df-convert:hover {\n",
              "      background-color: #434B5C;\n",
              "      box-shadow: 0px 1px 3px 1px rgba(0, 0, 0, 0.15);\n",
              "      filter: drop-shadow(0px 1px 2px rgba(0, 0, 0, 0.3));\n",
              "      fill: #FFFFFF;\n",
              "    }\n",
              "  </style>\n",
              "\n",
              "      <script>\n",
              "        const buttonEl =\n",
              "          document.querySelector('#df-1d7efc48-b1a0-44b3-adba-3ba34ab29b48 button.colab-df-convert');\n",
              "        buttonEl.style.display =\n",
              "          google.colab.kernel.accessAllowed ? 'block' : 'none';\n",
              "\n",
              "        async function convertToInteractive(key) {\n",
              "          const element = document.querySelector('#df-1d7efc48-b1a0-44b3-adba-3ba34ab29b48');\n",
              "          const dataTable =\n",
              "            await google.colab.kernel.invokeFunction('convertToInteractive',\n",
              "                                                     [key], {});\n",
              "          if (!dataTable) return;\n",
              "\n",
              "          const docLinkHtml = 'Like what you see? Visit the ' +\n",
              "            '<a target=\"_blank\" href=https://colab.research.google.com/notebooks/data_table.ipynb>data table notebook</a>'\n",
              "            + ' to learn more about interactive tables.';\n",
              "          element.innerHTML = '';\n",
              "          dataTable['output_type'] = 'display_data';\n",
              "          await google.colab.output.renderOutput(dataTable, element);\n",
              "          const docLink = document.createElement('div');\n",
              "          docLink.innerHTML = docLinkHtml;\n",
              "          element.appendChild(docLink);\n",
              "        }\n",
              "      </script>\n",
              "    </div>\n",
              "  </div>\n",
              "  "
            ]
          },
          "metadata": {},
          "execution_count": 85
        }
      ]
    },
    {
      "cell_type": "code",
      "source": [
        "past_100_days = data_training.tail(100)"
      ],
      "metadata": {
        "id": "Nxe9XhJE1b0g"
      },
      "execution_count": 86,
      "outputs": []
    },
    {
      "cell_type": "code",
      "source": [
        "final_df = past_100_days.append(data_testing, ignore_index=True)"
      ],
      "metadata": {
        "colab": {
          "base_uri": "https://localhost:8080/"
        },
        "id": "FGoef1WC1rWV",
        "outputId": "4f8a898f-3990-4291-cd48-612f2bb71d26"
      },
      "execution_count": 87,
      "outputs": [
        {
          "output_type": "stream",
          "name": "stderr",
          "text": [
            "<ipython-input-87-27e824f269e9>:1: FutureWarning: The frame.append method is deprecated and will be removed from pandas in a future version. Use pandas.concat instead.\n",
            "  final_df = past_100_days.append(data_testing, ignore_index=True)\n"
          ]
        }
      ]
    },
    {
      "cell_type": "code",
      "source": [
        "final_df.head()"
      ],
      "metadata": {
        "colab": {
          "base_uri": "https://localhost:8080/",
          "height": 206
        },
        "id": "apaGWpjl2BlA",
        "outputId": "6963ffa5-07e2-4cb7-9419-8803436846e0"
      },
      "execution_count": 88,
      "outputs": [
        {
          "output_type": "execute_result",
          "data": {
            "text/plain": [
              "       Close\n",
              "0  27.000000\n",
              "1  26.982500\n",
              "2  27.045000\n",
              "3  27.370001\n",
              "4  27.344999"
            ],
            "text/html": [
              "\n",
              "  <div id=\"df-96a3fa39-13d9-4d90-8141-dcd104e15de0\">\n",
              "    <div class=\"colab-df-container\">\n",
              "      <div>\n",
              "<style scoped>\n",
              "    .dataframe tbody tr th:only-of-type {\n",
              "        vertical-align: middle;\n",
              "    }\n",
              "\n",
              "    .dataframe tbody tr th {\n",
              "        vertical-align: top;\n",
              "    }\n",
              "\n",
              "    .dataframe thead th {\n",
              "        text-align: right;\n",
              "    }\n",
              "</style>\n",
              "<table border=\"1\" class=\"dataframe\">\n",
              "  <thead>\n",
              "    <tr style=\"text-align: right;\">\n",
              "      <th></th>\n",
              "      <th>Close</th>\n",
              "    </tr>\n",
              "  </thead>\n",
              "  <tbody>\n",
              "    <tr>\n",
              "      <th>0</th>\n",
              "      <td>27.000000</td>\n",
              "    </tr>\n",
              "    <tr>\n",
              "      <th>1</th>\n",
              "      <td>26.982500</td>\n",
              "    </tr>\n",
              "    <tr>\n",
              "      <th>2</th>\n",
              "      <td>27.045000</td>\n",
              "    </tr>\n",
              "    <tr>\n",
              "      <th>3</th>\n",
              "      <td>27.370001</td>\n",
              "    </tr>\n",
              "    <tr>\n",
              "      <th>4</th>\n",
              "      <td>27.344999</td>\n",
              "    </tr>\n",
              "  </tbody>\n",
              "</table>\n",
              "</div>\n",
              "      <button class=\"colab-df-convert\" onclick=\"convertToInteractive('df-96a3fa39-13d9-4d90-8141-dcd104e15de0')\"\n",
              "              title=\"Convert this dataframe to an interactive table.\"\n",
              "              style=\"display:none;\">\n",
              "        \n",
              "  <svg xmlns=\"http://www.w3.org/2000/svg\" height=\"24px\"viewBox=\"0 0 24 24\"\n",
              "       width=\"24px\">\n",
              "    <path d=\"M0 0h24v24H0V0z\" fill=\"none\"/>\n",
              "    <path d=\"M18.56 5.44l.94 2.06.94-2.06 2.06-.94-2.06-.94-.94-2.06-.94 2.06-2.06.94zm-11 1L8.5 8.5l.94-2.06 2.06-.94-2.06-.94L8.5 2.5l-.94 2.06-2.06.94zm10 10l.94 2.06.94-2.06 2.06-.94-2.06-.94-.94-2.06-.94 2.06-2.06.94z\"/><path d=\"M17.41 7.96l-1.37-1.37c-.4-.4-.92-.59-1.43-.59-.52 0-1.04.2-1.43.59L10.3 9.45l-7.72 7.72c-.78.78-.78 2.05 0 2.83L4 21.41c.39.39.9.59 1.41.59.51 0 1.02-.2 1.41-.59l7.78-7.78 2.81-2.81c.8-.78.8-2.07 0-2.86zM5.41 20L4 18.59l7.72-7.72 1.47 1.35L5.41 20z\"/>\n",
              "  </svg>\n",
              "      </button>\n",
              "      \n",
              "  <style>\n",
              "    .colab-df-container {\n",
              "      display:flex;\n",
              "      flex-wrap:wrap;\n",
              "      gap: 12px;\n",
              "    }\n",
              "\n",
              "    .colab-df-convert {\n",
              "      background-color: #E8F0FE;\n",
              "      border: none;\n",
              "      border-radius: 50%;\n",
              "      cursor: pointer;\n",
              "      display: none;\n",
              "      fill: #1967D2;\n",
              "      height: 32px;\n",
              "      padding: 0 0 0 0;\n",
              "      width: 32px;\n",
              "    }\n",
              "\n",
              "    .colab-df-convert:hover {\n",
              "      background-color: #E2EBFA;\n",
              "      box-shadow: 0px 1px 2px rgba(60, 64, 67, 0.3), 0px 1px 3px 1px rgba(60, 64, 67, 0.15);\n",
              "      fill: #174EA6;\n",
              "    }\n",
              "\n",
              "    [theme=dark] .colab-df-convert {\n",
              "      background-color: #3B4455;\n",
              "      fill: #D2E3FC;\n",
              "    }\n",
              "\n",
              "    [theme=dark] .colab-df-convert:hover {\n",
              "      background-color: #434B5C;\n",
              "      box-shadow: 0px 1px 3px 1px rgba(0, 0, 0, 0.15);\n",
              "      filter: drop-shadow(0px 1px 2px rgba(0, 0, 0, 0.3));\n",
              "      fill: #FFFFFF;\n",
              "    }\n",
              "  </style>\n",
              "\n",
              "      <script>\n",
              "        const buttonEl =\n",
              "          document.querySelector('#df-96a3fa39-13d9-4d90-8141-dcd104e15de0 button.colab-df-convert');\n",
              "        buttonEl.style.display =\n",
              "          google.colab.kernel.accessAllowed ? 'block' : 'none';\n",
              "\n",
              "        async function convertToInteractive(key) {\n",
              "          const element = document.querySelector('#df-96a3fa39-13d9-4d90-8141-dcd104e15de0');\n",
              "          const dataTable =\n",
              "            await google.colab.kernel.invokeFunction('convertToInteractive',\n",
              "                                                     [key], {});\n",
              "          if (!dataTable) return;\n",
              "\n",
              "          const docLinkHtml = 'Like what you see? Visit the ' +\n",
              "            '<a target=\"_blank\" href=https://colab.research.google.com/notebooks/data_table.ipynb>data table notebook</a>'\n",
              "            + ' to learn more about interactive tables.';\n",
              "          element.innerHTML = '';\n",
              "          dataTable['output_type'] = 'display_data';\n",
              "          await google.colab.output.renderOutput(dataTable, element);\n",
              "          const docLink = document.createElement('div');\n",
              "          docLink.innerHTML = docLinkHtml;\n",
              "          element.appendChild(docLink);\n",
              "        }\n",
              "      </script>\n",
              "    </div>\n",
              "  </div>\n",
              "  "
            ]
          },
          "metadata": {},
          "execution_count": 88
        }
      ]
    },
    {
      "cell_type": "code",
      "source": [
        "input_data = scaler.fit_transform(final_df)"
      ],
      "metadata": {
        "id": "P-0YzcVG2IjL"
      },
      "execution_count": 89,
      "outputs": []
    },
    {
      "cell_type": "code",
      "source": [
        "input_data.shape"
      ],
      "metadata": {
        "colab": {
          "base_uri": "https://localhost:8080/"
        },
        "id": "U4___nk92R2u",
        "outputId": "d76f0cda-8055-4f34-dc28-5223b2f6eb7c"
      },
      "execution_count": 90,
      "outputs": [
        {
          "output_type": "execute_result",
          "data": {
            "text/plain": [
              "(853, 1)"
            ]
          },
          "metadata": {},
          "execution_count": 90
        }
      ]
    },
    {
      "cell_type": "code",
      "source": [
        "x_test = []\n",
        "y_test = []\n",
        "\n",
        "for i in range(100, input_data.shape[0]):\n",
        "    x_test.append(input_data[i-100: i])\n",
        "    y_test.append(input_data[i, 0])\n"
      ],
      "metadata": {
        "id": "yvnlCAUo2am7"
      },
      "execution_count": 94,
      "outputs": []
    },
    {
      "cell_type": "code",
      "source": [
        "x_test, y_test = np.array(x_test), np.array(y_test)\n",
        "print(x_test.shape)\n",
        "print(y_test.shape)"
      ],
      "metadata": {
        "colab": {
          "base_uri": "https://localhost:8080/"
        },
        "id": "SexAeDpE3BQp",
        "outputId": "774a43b8-196c-4a32-d707-57adf5a65121"
      },
      "execution_count": 95,
      "outputs": [
        {
          "output_type": "stream",
          "name": "stdout",
          "text": [
            "(753, 100, 1)\n",
            "(753,)\n"
          ]
        }
      ]
    },
    {
      "cell_type": "code",
      "source": [
        "y_predicted = model.predict(x_test)"
      ],
      "metadata": {
        "colab": {
          "base_uri": "https://localhost:8080/"
        },
        "id": "RaDoFcOo3SxQ",
        "outputId": "a71ee024-a9d6-4eba-cee3-aa34891e0e07"
      },
      "execution_count": 97,
      "outputs": [
        {
          "output_type": "stream",
          "name": "stdout",
          "text": [
            "24/24 [==============================] - 5s 198ms/step\n"
          ]
        }
      ]
    },
    {
      "cell_type": "code",
      "source": [
        "y_predicted.shape"
      ],
      "metadata": {
        "colab": {
          "base_uri": "https://localhost:8080/"
        },
        "id": "4lOGp_gs3eXG",
        "outputId": "e969f2fd-c7b4-4e18-80f1-65ddcc671525"
      },
      "execution_count": 98,
      "outputs": [
        {
          "output_type": "execute_result",
          "data": {
            "text/plain": [
              "(753, 100, 1)"
            ]
          },
          "metadata": {},
          "execution_count": 98
        }
      ]
    },
    {
      "cell_type": "code",
      "source": [
        "y_test"
      ],
      "metadata": {
        "colab": {
          "base_uri": "https://localhost:8080/"
        },
        "id": "adbNXM453jhL",
        "outputId": "4ec6bafe-b1be-4b52-c6fd-afc2ea49820f"
      },
      "execution_count": 99,
      "outputs": [
        {
          "output_type": "execute_result",
          "data": {
            "text/plain": [
              "array([0.06911197, 0.06842189, 0.07155372, 0.07845432, 0.08418706,\n",
              "       0.08482406, 0.08822127, 0.0855672 , 0.08445249, 0.0895483 ,\n",
              "       0.0894952 , 0.08838051, 0.0895483 , 0.08997295, 0.08938906,\n",
              "       0.09952758, 0.09984611, 0.09989915, 0.09820055, 0.09671429,\n",
              "       0.13599451, 0.13482672, 0.13774619, 0.144169  , 0.15075113,\n",
              "       0.15345824, 0.15547537, 0.15388291, 0.16009341, 0.16927655,\n",
              "       0.1718775 , 0.17102826, 0.17299223, 0.17819418, 0.18037054,\n",
              "       0.17729182, 0.1779819 , 0.17941503, 0.17973358, 0.1945963 ,\n",
              "       0.19019063, 0.19454326, 0.19220766, 0.19316317, 0.19040292,\n",
              "       0.18870427, 0.19114606, 0.19146452, 0.19034986, 0.19815284,\n",
              "       0.19937369, 0.19565799, 0.20346098, 0.19486173, 0.20324861,\n",
              "       0.20059454, 0.19910826, 0.20038224, 0.215882  , 0.21758056,\n",
              "       0.21657199, 0.21513886, 0.21535114, 0.22103089, 0.21704979,\n",
              "       0.21513886, 0.21344021, 0.21253785, 0.20436334, 0.20526572,\n",
              "       0.20128462, 0.20542495, 0.2020808 , 0.19932055, 0.20866293,\n",
              "       0.20776055, 0.21503268, 0.21975692, 0.21524496, 0.21582885,\n",
              "       0.21508571, 0.2306386 , 0.23557515, 0.23318648, 0.23037319,\n",
              "       0.24327201, 0.2647699 , 0.26997192, 0.26609694, 0.26975955,\n",
              "       0.28117211, 0.27904879, 0.27782794, 0.25011946, 0.26227506,\n",
              "       0.26503531, 0.26997192, 0.26896337, 0.26652159, 0.2693349 ,\n",
              "       0.26795481, 0.2682733 , 0.26344287, 0.26567227, 0.27772176,\n",
              "       0.26965337, 0.27241362, 0.27729711, 0.27528006, 0.24337811,\n",
              "       0.22448116, 0.23069166, 0.22310107, 0.21848292, 0.20776055,\n",
              "       0.22936463, 0.2223048 , 0.2268698 , 0.22559589, 0.22904616,\n",
              "       0.22660446, 0.21551039, 0.2266575 , 0.21524496, 0.21704979,\n",
              "       0.21428954, 0.21742132, 0.21020225, 0.21789903, 0.22257021,\n",
              "       0.22506506, 0.22617979, 0.2369553 , 0.24369658, 0.24645683,\n",
              "       0.24921708, 0.25420675, 0.25059718, 0.25022565, 0.25988642,\n",
              "       0.26333675, 0.26715863, 0.25176497, 0.24613836, 0.24205107,\n",
              "       0.24905786, 0.28669253, 0.2783588 , 0.28271143, 0.2955571 ,\n",
              "       0.30229846, 0.30750041, 0.27703177, 0.28849728, 0.30107763,\n",
              "       0.31036687, 0.30691652, 0.29051439, 0.28860346, 0.28706415,\n",
              "       0.30070602, 0.30176762, 0.29799889, 0.30113067, 0.30967677,\n",
              "       0.31732051, 0.31965611, 0.32310636, 0.32337179, 0.31291473,\n",
              "       0.31201237, 0.30856204, 0.29460168, 0.30983601, 0.3064388 ,\n",
              "       0.30001592, 0.29274381, 0.30123685, 0.29481398, 0.29513245,\n",
              "       0.28101287, 0.26678702, 0.25882481, 0.25171193, 0.26545998,\n",
              "       0.27124583, 0.26620312, 0.27066194, 0.26901641, 0.27257287,\n",
              "       0.26726473, 0.27740329, 0.27692558, 0.27979193, 0.2801104 ,\n",
              "       0.28356075, 0.28064126, 0.28589633, 0.30123685, 0.30436863,\n",
              "       0.30059983, 0.28053507, 0.28196829, 0.28154364, 0.28648025,\n",
              "       0.28281761, 0.28812575, 0.31806365, 0.33754449, 0.34985933,\n",
              "       0.33844687, 0.3449228 , 0.36822553, 0.37751477, 0.3804873 ,\n",
              "       0.38807798, 0.38616705, 0.37974419, 0.37602849, 0.36206807,\n",
              "       0.3500717 , 0.36079418, 0.35575136, 0.354849  , 0.37162273,\n",
              "       0.38128359, 0.38133663, 0.37666544, 0.37125121, 0.35219493,\n",
              "       0.36477528, 0.36052875, 0.35389358, 0.35304425, 0.34970011,\n",
              "       0.35134569, 0.35161103, 0.36912791, 0.363979  , 0.36700468,\n",
              "       0.36673925, 0.37602849, 0.38903343, 0.37905408, 0.37804562,\n",
              "       0.38154893, 0.38154893, 0.35798086, 0.35814011, 0.36068797,\n",
              "       0.3508679 , 0.36695155, 0.36679231, 0.37103884, 0.38149587,\n",
              "       0.37804562, 0.37793942, 0.37772705, 0.38298215, 0.39258986,\n",
              "       0.38781258, 0.40325928, 0.40410852, 0.39986207, 0.39211215,\n",
              "       0.39232443, 0.37735552, 0.36084722, 0.36297045, 0.34412662,\n",
              "       0.33887153, 0.34131323, 0.34317112, 0.30452788, 0.28324226,\n",
              "       0.31795746, 0.29943202, 0.2761293 , 0.28281761, 0.3162589 ,\n",
              "       0.3249111 , 0.34099476, 0.37082654, 0.36785391, 0.36477528,\n",
              "       0.36063493, 0.36822553, 0.38414994, 0.40256918, 0.39949046,\n",
              "       0.39805724, 0.38149587, 0.38791876, 0.39115672, 0.39036046,\n",
              "       0.38165511, 0.39179368, 0.40793037, 0.41716656, 0.40787731,\n",
              "       0.39975589, 0.40087053, 0.39752647, 0.38308833, 0.38276984,\n",
              "       0.36169654, 0.34885087, 0.32809603, 0.36965874, 0.34614365,\n",
              "       0.33627052, 0.34317112, 0.33733212, 0.34640908, 0.36350128,\n",
              "       0.36981799, 0.34635602, 0.35522061, 0.37220663, 0.36790706,\n",
              "       0.37693087, 0.38006265, 0.38584859, 0.39869426, 0.39657096,\n",
              "       0.36981799, 0.33223635, 0.32968847, 0.31747975, 0.32124847,\n",
              "       0.32427415, 0.31418873, 0.32979459, 0.3501779 , 0.38982969,\n",
              "       0.39152825, 0.42836673, 0.43542657, 0.44015081, 0.44710445,\n",
              "       0.46133022, 0.45363344, 0.45129784, 0.44222099, 0.45145708,\n",
              "       0.44514046, 0.44153089, 0.44853767, 0.44604284, 0.45241259,\n",
              "       0.45129784, 0.45358038, 0.4499708 , 0.44784759, 0.44450344,\n",
              "       0.46239191, 0.47083183, 0.47868785, 0.4822443 , 0.47948413,\n",
              "       0.47014175, 0.46764692, 0.47322049, 0.46483361, 0.46536447,\n",
              "       0.45496047, 0.4544297 , 0.43823988, 0.44253945, 0.43701903,\n",
              "       0.4341526 , 0.41955522, 0.43155157, 0.43011843, 0.43723132,\n",
              "       0.43516114, 0.44614894, 0.42884446, 0.43670046, 0.45034242,\n",
              "       0.46419665, 0.46297583, 0.4498647 , 0.46658532, 0.46817776,\n",
              "       0.46594836, 0.46881471, 0.46324115, 0.47109725, 0.46876167,\n",
              "       0.46966404, 0.47704235, 0.4867032 , 0.48346524, 0.46631989,\n",
              "       0.46064022, 0.46265725, 0.52216152, 0.55342645, 0.55661135,\n",
              "       0.56234416, 0.55194017, 0.55268331, 0.56133559, 0.55416959,\n",
              "       0.56128247, 0.56595365, 0.56855466, 0.58490375, 0.60751637,\n",
              "       0.59626316, 0.59403366, 0.5940868 , 0.59642238, 0.59997884,\n",
              "       0.60942732, 0.6187696 , 0.63618029, 0.64706199, 0.66086317,\n",
              "       0.66473809, 0.65682895, 0.63681733, 0.62726266, 0.61149747,\n",
              "       0.64079843, 0.62604181, 0.65438725, 0.64074529, 0.60910883,\n",
              "       0.61101976, 0.61170978, 0.62052131, 0.60794104, 0.62455545,\n",
              "       0.63198691, 0.62259148, 0.64663732, 0.65083079, 0.65889912,\n",
              "       0.66962158, 0.68443133, 0.6627741 , 0.64313393, 0.64037376,\n",
              "       0.65682895, 0.60104044, 0.59090188, 0.63156223, 0.60634858,\n",
              "       0.63177452, 0.62667877, 0.5992357 , 0.61669943, 0.62381231,\n",
              "       0.63485326, 0.59429909, 0.61930046, 0.60072197, 0.57917094,\n",
              "       0.58479756, 0.61431079, 0.63214613, 0.55390416, 0.52263923,\n",
              "       0.53421101, 0.56701526, 0.55926542, 0.53792669, 0.48325287,\n",
              "       0.47295506, 0.44413192, 0.46860243, 0.47985566, 0.43914224,\n",
              "       0.39200596, 0.39094436, 0.36711078, 0.37947876, 0.37746171,\n",
              "       0.41302623, 0.40564792, 0.400499  , 0.43362182, 0.39046664,\n",
              "       0.38000959, 0.34693992, 0.35283197, 0.34768306, 0.3501779 ,\n",
              "       0.35999789, 0.33096238, 0.32278789, 0.33409424, 0.30659805,\n",
              "       0.28504701, 0.25266735, 0.23196563, 0.28685178, 0.28143743,\n",
              "       0.28186211, 0.28987744, 0.29083288, 0.2073359 , 0.23955625,\n",
              "       0.23780454, 0.25277353, 0.26636234, 0.26896337, 0.26094802,\n",
              "       0.24879243, 0.26508846, 0.27501465, 0.27989812, 0.28499397,\n",
              "       0.26630931, 0.26960033, 0.26312438, 0.28998356, 0.28223372,\n",
              "       0.27363447, 0.32974153, 0.33605823, 0.33648288, 0.36159035,\n",
              "       0.37714316, 0.37746171, 0.35994485, 0.35713154, 0.3519295 ,\n",
              "       0.35967943, 0.3559106 , 0.35920171, 0.3571846 , 0.35989171,\n",
              "       0.3657307 , 0.36058179, 0.37072035, 0.37740858, 0.37793942,\n",
              "       0.38080579, 0.37167577, 0.38133663, 0.38600783, 0.38430918,\n",
              "       0.37894799, 0.36822553, 0.37040188, 0.40219756, 0.41286698,\n",
              "       0.41711352, 0.42783589, 0.44052234, 0.45060784, 0.4426987 ,\n",
              "       0.45135098, 0.48813633, 0.4666915 , 0.4544297 , 0.44407877,\n",
              "       0.45299648, 0.45432352, 0.46085251, 0.46770005, 0.48245667,\n",
              "       0.48951651, 0.49132126, 0.4982749 , 0.51473017, 0.51154524,\n",
              "       0.51749033, 0.50862574, 0.50820109, 0.51011202, 0.51021821,\n",
              "       0.5308138 , 0.53468872, 0.53824517, 0.55390416, 0.5522056 ,\n",
              "       0.54222628, 0.53702432, 0.53866982, 0.51775576, 0.57004094,\n",
              "       0.56276873, 0.57656993, 0.5592123 , 0.52938058, 0.52959287,\n",
              "       0.51802117, 0.49923032, 0.43839911, 0.45400505, 0.46600142,\n",
              "       0.46154259, 0.4558098 , 0.42443868, 0.44307031, 0.42279318,\n",
              "       0.40623181, 0.40256918, 0.39864113, 0.39412926, 0.39901275,\n",
              "       0.38186748, 0.37247206, 0.40612563, 0.42151919, 0.43574504,\n",
              "       0.46191411, 0.47481293, 0.48665006, 0.48335905, 0.48314666,\n",
              "       0.47566225, 0.48176659, 0.50597168, 0.50289296, 0.51133296,\n",
              "       0.50772338, 0.50666176, 0.4906843 , 0.5131377 , 0.51281922,\n",
              "       0.50315838, 0.52242695, 0.5286905 , 0.53760822, 0.53665271,\n",
              "       0.51430549, 0.52078142, 0.53134457, 0.52348855, 0.53171619,\n",
              "       0.54185475, 0.53808593, 0.53198161, 0.54424339, 0.52794737,\n",
              "       0.55252406, 0.56112323, 0.56022086, 0.55146246, 0.55528432,\n",
              "       0.56558204, 0.56080476, 0.58341738, 0.55894687, 0.53553804,\n",
              "       0.47884709, 0.4982749 , 0.50910346, 0.53240618, 0.51945439,\n",
              "       0.5167472 , 0.5618133 , 0.52879669, 0.52343549, 0.5487022 ,\n",
              "       0.56913858, 0.56919162, 0.58129417, 0.58033875, 0.52821279,\n",
              "       0.54864914, 0.53628118, 0.54355331, 0.56202561, 0.56059245,\n",
              "       0.54445567, 0.56298112, 0.58469138, 0.58458519, 0.58941562,\n",
              "       0.60284519, 0.63941826, 0.63676419, 0.61372689, 0.61983121,\n",
              "       0.62407774, 0.63506562, 0.62545792, 0.60831257, 0.61356765,\n",
              "       0.60804714, 0.62582944, 0.61977817, 0.6140985 , 0.64143537,\n",
              "       0.64472639, 0.61484164, 0.62471478, 0.65757209, 0.65783749,\n",
              "       0.64371783, 0.65767827, 0.67392115, 0.70640702, 0.70460219,\n",
              "       0.70168277, 0.69663998, 0.70147041, 0.70746862, 0.72923194,\n",
              "       0.72631253, 0.74340465, 0.74552795, 0.76145236, 0.77456348,\n",
              "       0.74398854, 0.74382932, 0.77302408, 0.81049959, 0.81941722,\n",
              "       0.81745323, 0.81803706, 0.82966189, 0.83343079, 0.84436553,\n",
              "       0.84309147, 0.85641494, 0.84670113, 0.86326248, 0.87037539,\n",
              "       0.86607579, 0.84962055, 0.84335697, 0.84213605, 0.86650038,\n",
              "       0.85545952, 0.87430334, 0.87117156, 0.85476944, 0.82976815,\n",
              "       0.84192368, 0.86230691, 0.88953768, 0.86941994, 0.87770064,\n",
              "       0.88985614, 0.89351878, 0.91310581, 0.93810709, 0.94102668,\n",
              "       0.93747016, 0.93895642, 0.93587778, 0.96008287, 0.961516  ,\n",
              "       0.99145398, 0.99087   , 1.        ])"
            ]
          },
          "metadata": {},
          "execution_count": 99
        }
      ]
    },
    {
      "cell_type": "code",
      "source": [
        "scaler.scale_"
      ],
      "metadata": {
        "colab": {
          "base_uri": "https://localhost:8080/"
        },
        "id": "LTSY6dBK3qaQ",
        "outputId": "d46fa1b6-9cfa-482f-aa55-a29c4e36b504"
      },
      "execution_count": 100,
      "outputs": [
        {
          "output_type": "execute_result",
          "data": {
            "text/plain": [
              "array([0.02123255])"
            ]
          },
          "metadata": {},
          "execution_count": 100
        }
      ]
    },
    {
      "cell_type": "code",
      "source": [
        "scale_factor = 1/0.02123255\n",
        "y_predicted = y_predicted * scale_factor\n",
        "y_test = y_test * scale_factor\n"
      ],
      "metadata": {
        "id": "s0SK27Ii36cC"
      },
      "execution_count": 101,
      "outputs": []
    },
    {
      "cell_type": "code",
      "source": [
        "plt.figure(figsize=(12,6))\n",
        "plt.plot(y_test, 'b', label = 'Original Price')\n",
        "plt.plot(y_predicted, 'r', label = 'Predicted Price')\n",
        "plt.xlabel('Time')\n",
        "plt.ylabel('Price')\n",
        "plt.legend()\n",
        "plt.show()"
      ],
      "metadata": {
        "colab": {
          "base_uri": "https://localhost:8080/",
          "height": 1000
        },
        "id": "VMZ9N0lt4Rfp",
        "outputId": "1e8ad3c3-4f5d-4484-d943-5c62689df229"
      },
      "execution_count": 103,
      "outputs": [
        {
          "output_type": "error",
          "ename": "ValueError",
          "evalue": "ignored",
          "traceback": [
            "\u001b[0;31m---------------------------------------------------------------------------\u001b[0m",
            "\u001b[0;31mValueError\u001b[0m                                Traceback (most recent call last)",
            "\u001b[0;32m<ipython-input-103-45cb133460e6>\u001b[0m in \u001b[0;36m<cell line: 3>\u001b[0;34m()\u001b[0m\n\u001b[1;32m      1\u001b[0m \u001b[0mplt\u001b[0m\u001b[0;34m.\u001b[0m\u001b[0mfigure\u001b[0m\u001b[0;34m(\u001b[0m\u001b[0mfigsize\u001b[0m\u001b[0;34m=\u001b[0m\u001b[0;34m(\u001b[0m\u001b[0;36m12\u001b[0m\u001b[0;34m,\u001b[0m\u001b[0;36m6\u001b[0m\u001b[0;34m)\u001b[0m\u001b[0;34m)\u001b[0m\u001b[0;34m\u001b[0m\u001b[0;34m\u001b[0m\u001b[0m\n\u001b[1;32m      2\u001b[0m \u001b[0mplt\u001b[0m\u001b[0;34m.\u001b[0m\u001b[0mplot\u001b[0m\u001b[0;34m(\u001b[0m\u001b[0my_test\u001b[0m\u001b[0;34m,\u001b[0m \u001b[0;34m'b'\u001b[0m\u001b[0;34m,\u001b[0m \u001b[0mlabel\u001b[0m \u001b[0;34m=\u001b[0m \u001b[0;34m'Original Price'\u001b[0m\u001b[0;34m)\u001b[0m\u001b[0;34m\u001b[0m\u001b[0;34m\u001b[0m\u001b[0m\n\u001b[0;32m----> 3\u001b[0;31m \u001b[0mplt\u001b[0m\u001b[0;34m.\u001b[0m\u001b[0mplot\u001b[0m\u001b[0;34m(\u001b[0m\u001b[0my_predicted\u001b[0m\u001b[0;34m,\u001b[0m \u001b[0;34m'g'\u001b[0m\u001b[0;34m,\u001b[0m \u001b[0mlabel\u001b[0m \u001b[0;34m=\u001b[0m \u001b[0;34m'Predicted Price'\u001b[0m\u001b[0;34m)\u001b[0m\u001b[0;34m\u001b[0m\u001b[0;34m\u001b[0m\u001b[0m\n\u001b[0m\u001b[1;32m      4\u001b[0m \u001b[0mplt\u001b[0m\u001b[0;34m.\u001b[0m\u001b[0mxlabel\u001b[0m\u001b[0;34m(\u001b[0m\u001b[0;34m'Time'\u001b[0m\u001b[0;34m)\u001b[0m\u001b[0;34m\u001b[0m\u001b[0;34m\u001b[0m\u001b[0m\n\u001b[1;32m      5\u001b[0m \u001b[0mplt\u001b[0m\u001b[0;34m.\u001b[0m\u001b[0mylabel\u001b[0m\u001b[0;34m(\u001b[0m\u001b[0;34m'Price'\u001b[0m\u001b[0;34m)\u001b[0m\u001b[0;34m\u001b[0m\u001b[0;34m\u001b[0m\u001b[0m\n",
            "\u001b[0;32m/usr/local/lib/python3.9/dist-packages/matplotlib/pyplot.py\u001b[0m in \u001b[0;36mplot\u001b[0;34m(scalex, scaley, data, *args, **kwargs)\u001b[0m\n\u001b[1;32m   2810\u001b[0m \u001b[0;34m@\u001b[0m\u001b[0m_copy_docstring_and_deprecators\u001b[0m\u001b[0;34m(\u001b[0m\u001b[0mAxes\u001b[0m\u001b[0;34m.\u001b[0m\u001b[0mplot\u001b[0m\u001b[0;34m)\u001b[0m\u001b[0;34m\u001b[0m\u001b[0;34m\u001b[0m\u001b[0m\n\u001b[1;32m   2811\u001b[0m \u001b[0;32mdef\u001b[0m \u001b[0mplot\u001b[0m\u001b[0;34m(\u001b[0m\u001b[0;34m*\u001b[0m\u001b[0margs\u001b[0m\u001b[0;34m,\u001b[0m \u001b[0mscalex\u001b[0m\u001b[0;34m=\u001b[0m\u001b[0;32mTrue\u001b[0m\u001b[0;34m,\u001b[0m \u001b[0mscaley\u001b[0m\u001b[0;34m=\u001b[0m\u001b[0;32mTrue\u001b[0m\u001b[0;34m,\u001b[0m \u001b[0mdata\u001b[0m\u001b[0;34m=\u001b[0m\u001b[0;32mNone\u001b[0m\u001b[0;34m,\u001b[0m \u001b[0;34m**\u001b[0m\u001b[0mkwargs\u001b[0m\u001b[0;34m)\u001b[0m\u001b[0;34m:\u001b[0m\u001b[0;34m\u001b[0m\u001b[0;34m\u001b[0m\u001b[0m\n\u001b[0;32m-> 2812\u001b[0;31m     return gca().plot(\n\u001b[0m\u001b[1;32m   2813\u001b[0m         \u001b[0;34m*\u001b[0m\u001b[0margs\u001b[0m\u001b[0;34m,\u001b[0m \u001b[0mscalex\u001b[0m\u001b[0;34m=\u001b[0m\u001b[0mscalex\u001b[0m\u001b[0;34m,\u001b[0m \u001b[0mscaley\u001b[0m\u001b[0;34m=\u001b[0m\u001b[0mscaley\u001b[0m\u001b[0;34m,\u001b[0m\u001b[0;34m\u001b[0m\u001b[0;34m\u001b[0m\u001b[0m\n\u001b[1;32m   2814\u001b[0m         **({\"data\": data} if data is not None else {}), **kwargs)\n",
            "\u001b[0;32m/usr/local/lib/python3.9/dist-packages/matplotlib/axes/_axes.py\u001b[0m in \u001b[0;36mplot\u001b[0;34m(self, scalex, scaley, data, *args, **kwargs)\u001b[0m\n\u001b[1;32m   1686\u001b[0m         \"\"\"\n\u001b[1;32m   1687\u001b[0m         \u001b[0mkwargs\u001b[0m \u001b[0;34m=\u001b[0m \u001b[0mcbook\u001b[0m\u001b[0;34m.\u001b[0m\u001b[0mnormalize_kwargs\u001b[0m\u001b[0;34m(\u001b[0m\u001b[0mkwargs\u001b[0m\u001b[0;34m,\u001b[0m \u001b[0mmlines\u001b[0m\u001b[0;34m.\u001b[0m\u001b[0mLine2D\u001b[0m\u001b[0;34m)\u001b[0m\u001b[0;34m\u001b[0m\u001b[0;34m\u001b[0m\u001b[0m\n\u001b[0;32m-> 1688\u001b[0;31m         \u001b[0mlines\u001b[0m \u001b[0;34m=\u001b[0m \u001b[0;34m[\u001b[0m\u001b[0;34m*\u001b[0m\u001b[0mself\u001b[0m\u001b[0;34m.\u001b[0m\u001b[0m_get_lines\u001b[0m\u001b[0;34m(\u001b[0m\u001b[0;34m*\u001b[0m\u001b[0margs\u001b[0m\u001b[0;34m,\u001b[0m \u001b[0mdata\u001b[0m\u001b[0;34m=\u001b[0m\u001b[0mdata\u001b[0m\u001b[0;34m,\u001b[0m \u001b[0;34m**\u001b[0m\u001b[0mkwargs\u001b[0m\u001b[0;34m)\u001b[0m\u001b[0;34m]\u001b[0m\u001b[0;34m\u001b[0m\u001b[0;34m\u001b[0m\u001b[0m\n\u001b[0m\u001b[1;32m   1689\u001b[0m         \u001b[0;32mfor\u001b[0m \u001b[0mline\u001b[0m \u001b[0;32min\u001b[0m \u001b[0mlines\u001b[0m\u001b[0;34m:\u001b[0m\u001b[0;34m\u001b[0m\u001b[0;34m\u001b[0m\u001b[0m\n\u001b[1;32m   1690\u001b[0m             \u001b[0mself\u001b[0m\u001b[0;34m.\u001b[0m\u001b[0madd_line\u001b[0m\u001b[0;34m(\u001b[0m\u001b[0mline\u001b[0m\u001b[0;34m)\u001b[0m\u001b[0;34m\u001b[0m\u001b[0;34m\u001b[0m\u001b[0m\n",
            "\u001b[0;32m/usr/local/lib/python3.9/dist-packages/matplotlib/axes/_base.py\u001b[0m in \u001b[0;36m__call__\u001b[0;34m(self, data, *args, **kwargs)\u001b[0m\n\u001b[1;32m    309\u001b[0m                 \u001b[0mthis\u001b[0m \u001b[0;34m+=\u001b[0m \u001b[0margs\u001b[0m\u001b[0;34m[\u001b[0m\u001b[0;36m0\u001b[0m\u001b[0;34m]\u001b[0m\u001b[0;34m,\u001b[0m\u001b[0;34m\u001b[0m\u001b[0;34m\u001b[0m\u001b[0m\n\u001b[1;32m    310\u001b[0m                 \u001b[0margs\u001b[0m \u001b[0;34m=\u001b[0m \u001b[0margs\u001b[0m\u001b[0;34m[\u001b[0m\u001b[0;36m1\u001b[0m\u001b[0;34m:\u001b[0m\u001b[0;34m]\u001b[0m\u001b[0;34m\u001b[0m\u001b[0;34m\u001b[0m\u001b[0m\n\u001b[0;32m--> 311\u001b[0;31m             yield from self._plot_args(\n\u001b[0m\u001b[1;32m    312\u001b[0m                 this, kwargs, ambiguous_fmt_datakey=ambiguous_fmt_datakey)\n\u001b[1;32m    313\u001b[0m \u001b[0;34m\u001b[0m\u001b[0m\n",
            "\u001b[0;32m/usr/local/lib/python3.9/dist-packages/matplotlib/axes/_base.py\u001b[0m in \u001b[0;36m_plot_args\u001b[0;34m(self, tup, kwargs, return_kwargs, ambiguous_fmt_datakey)\u001b[0m\n\u001b[1;32m    505\u001b[0m                              f\"have shapes {x.shape} and {y.shape}\")\n\u001b[1;32m    506\u001b[0m         \u001b[0;32mif\u001b[0m \u001b[0mx\u001b[0m\u001b[0;34m.\u001b[0m\u001b[0mndim\u001b[0m \u001b[0;34m>\u001b[0m \u001b[0;36m2\u001b[0m \u001b[0;32mor\u001b[0m \u001b[0my\u001b[0m\u001b[0;34m.\u001b[0m\u001b[0mndim\u001b[0m \u001b[0;34m>\u001b[0m \u001b[0;36m2\u001b[0m\u001b[0;34m:\u001b[0m\u001b[0;34m\u001b[0m\u001b[0;34m\u001b[0m\u001b[0m\n\u001b[0;32m--> 507\u001b[0;31m             raise ValueError(f\"x and y can be no greater than 2D, but have \"\n\u001b[0m\u001b[1;32m    508\u001b[0m                              f\"shapes {x.shape} and {y.shape}\")\n\u001b[1;32m    509\u001b[0m         \u001b[0;32mif\u001b[0m \u001b[0mx\u001b[0m\u001b[0;34m.\u001b[0m\u001b[0mndim\u001b[0m \u001b[0;34m==\u001b[0m \u001b[0;36m1\u001b[0m\u001b[0;34m:\u001b[0m\u001b[0;34m\u001b[0m\u001b[0;34m\u001b[0m\u001b[0m\n",
            "\u001b[0;31mValueError\u001b[0m: x and y can be no greater than 2D, but have shapes (753,) and (753, 100, 1)"
          ]
        },
        {
          "output_type": "display_data",
          "data": {
            "text/plain": [
              "<Figure size 1200x600 with 1 Axes>"
            ],
            "image/png": "[encoded data removed]"
          },
          "metadata": {}
        }
      ]
    }
  ]
}